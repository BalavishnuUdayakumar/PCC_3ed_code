{
 "cells": [
  {
   "cell_type": "code",
   "execution_count": 1,
   "id": "e77d48c2",
   "metadata": {},
   "outputs": [],
   "source": [
    "# To display output of all lines inside a cell\n",
    "\n",
    "from IPython.core.interactiveshell import InteractiveShell\n",
    "InteractiveShell.ast_node_interactivity = \"all\""
   ]
  },
  {
   "cell_type": "markdown",
   "id": "e3a9e90c",
   "metadata": {},
   "source": [
    "# 1. Variables (Var)"
   ]
  },
  {
   "cell_type": "markdown",
   "id": "d97f7225",
   "metadata": {},
   "source": [
    "## 1.1 \"Hello World!\" using a variable"
   ]
  },
  {
   "cell_type": "code",
   "execution_count": 2,
   "id": "0ba14086",
   "metadata": {
    "scrolled": true
   },
   "outputs": [
    {
     "name": "stdout",
     "output_type": "stream",
     "text": [
      "Hello World!\n"
     ]
    }
   ],
   "source": [
    "# Assigning \"Hello World!\"\" to a variable \"message\". \n",
    "\n",
    "message = \"Hello World!\"\n",
    "print(message)"
   ]
  },
  {
   "cell_type": "markdown",
   "id": "b027aedc",
   "metadata": {},
   "source": [
    "## 1.2 \"NameError\" example"
   ]
  },
  {
   "cell_type": "code",
   "execution_count": 3,
   "id": "cc610e85",
   "metadata": {},
   "outputs": [
    {
     "data": {
      "text/plain": [
       "'\\n# An example for wrongly spelled variable name leading to \"NameError\".\\n\\nprint(mesage)\\n\\n'"
      ]
     },
     "execution_count": 3,
     "metadata": {},
     "output_type": "execute_result"
    }
   ],
   "source": [
    "# To identify the error, remove both triple quotes and run this cell\n",
    "\n",
    "'''\n",
    "# An example for wrongly spelled variable name leading to \"NameError\".\n",
    "\n",
    "print(mesage)\n",
    "\n",
    "'''"
   ]
  },
  {
   "cell_type": "markdown",
   "id": "aa969a66",
   "metadata": {},
   "source": [
    "# 2. Strings (Str)"
   ]
  },
  {
   "cell_type": "markdown",
   "id": "d375815f",
   "metadata": {},
   "source": [
    "## 2.1 Defining strings"
   ]
  },
  {
   "cell_type": "code",
   "execution_count": 4,
   "id": "2d7943b2",
   "metadata": {},
   "outputs": [
    {
     "name": "stdout",
     "output_type": "stream",
     "text": [
      "This sentence is a string\n"
     ]
    }
   ],
   "source": [
    "# An example of a string assigned to a variable \"string_example\".\n",
    "\n",
    "string_example = \"This sentence is a string\"\n",
    "\n",
    "print(string_example)"
   ]
  },
  {
   "cell_type": "code",
   "execution_count": 5,
   "id": "f089ba75",
   "metadata": {},
   "outputs": [
    {
     "name": "stdout",
     "output_type": "stream",
     "text": [
      "This sentence is also string\n",
      "Yet another 'string'\n",
      "Python's string\n",
      "A \"new\" string\n"
     ]
    }
   ],
   "source": [
    "# Single quotes and double quotes can be used to define strings\n",
    "\n",
    "string_example1 = 'This sentence is also string'\n",
    "string_example2 = \"Yet another 'string'\"\n",
    "string_example3 = \"Python's string\"\n",
    "string_example4 = 'A \"new\" string'\n",
    "\n",
    "print(string_example1)\n",
    "print(string_example2)\n",
    "print(string_example3)\n",
    "print(string_example4)"
   ]
  },
  {
   "cell_type": "markdown",
   "id": "9e11c82b",
   "metadata": {},
   "source": [
    "## 2.2 Use \"methods\" to change the case of strings"
   ]
  },
  {
   "cell_type": "code",
   "execution_count": 6,
   "id": "870252a5",
   "metadata": {},
   "outputs": [
    {
     "name": "stdout",
     "output_type": "stream",
     "text": [
      "Monty Python\n",
      "MONTY PYTHON\n"
     ]
    }
   ],
   "source": [
    "name1 = \"monty python\"\n",
    "\n",
    "print(name1.title())\n",
    "print(name1.upper())"
   ]
  },
  {
   "cell_type": "code",
   "execution_count": 7,
   "id": "4371c153",
   "metadata": {
    "scrolled": true
   },
   "outputs": [
    {
     "name": "stdout",
     "output_type": "stream",
     "text": [
      "monty python\n"
     ]
    }
   ],
   "source": [
    "name2 = \"MONTY PYTHON\"\n",
    "\n",
    "print(name2.lower())"
   ]
  },
  {
   "cell_type": "markdown",
   "id": "793d042d",
   "metadata": {},
   "source": [
    "## 2.3 Using variables in strings using \"format\" (\"f\")"
   ]
  },
  {
   "cell_type": "code",
   "execution_count": 8,
   "id": "875b0217",
   "metadata": {
    "scrolled": true
   },
   "outputs": [
    {
     "name": "stdout",
     "output_type": "stream",
     "text": [
      "Hello, Monty Python!\n"
     ]
    }
   ],
   "source": [
    "first_name = \"monty\"\n",
    "last_name = \"python\"\n",
    "\n",
    "full_name = f\"{first_name} {last_name}\"\n",
    "\n",
    "message = f\"Hello, {full_name.title()}!\"\n",
    "\n",
    "print(message)"
   ]
  },
  {
   "cell_type": "markdown",
   "id": "ccf61fc3",
   "metadata": {},
   "source": [
    "## 2.4 Adding and stripping whitespaces in strings"
   ]
  },
  {
   "cell_type": "code",
   "execution_count": 9,
   "id": "e22676ef",
   "metadata": {
    "scrolled": true
   },
   "outputs": [
    {
     "name": "stdout",
     "output_type": "stream",
     "text": [
      "without tab\n",
      "\twith tab\n"
     ]
    }
   ],
   "source": [
    "# Print without tab\n",
    "print(\"without tab\")\n",
    "\n",
    "# Print with tab\n",
    "print(\"\\twith tab\")"
   ]
  },
  {
   "cell_type": "code",
   "execution_count": 10,
   "id": "8f0f2663",
   "metadata": {
    "scrolled": true
   },
   "outputs": [
    {
     "name": "stdout",
     "output_type": "stream",
     "text": [
      "without newline between words\n",
      "\n",
      "\n",
      "With \n",
      "newline \n",
      "between \n",
      "words\n"
     ]
    }
   ],
   "source": [
    "# Print without newline\n",
    "print(\"without newline between words\")\n",
    "\n",
    "# Print a blank newline\n",
    "print(\"\\n\")\n",
    "\n",
    "# Print with newline \n",
    "print(\"With \\nnewline \\nbetween \\nwords\")"
   ]
  },
  {
   "cell_type": "code",
   "execution_count": 11,
   "id": "3210c882",
   "metadata": {
    "scrolled": true
   },
   "outputs": [
    {
     "name": "stdout",
     "output_type": "stream",
     "text": [
      "monty python\n",
      "keyser\n",
      "Soze\n",
      "'Verbal'\n"
     ]
    }
   ],
   "source": [
    "# Stripping whitespaces\n",
    "\n",
    "first_name = \" keyser\"\n",
    "middle_name = \" 'Verbal' \"\n",
    "last_name = \"Soze \"\n",
    "\n",
    "print(full_name)\n",
    "\n",
    "# Remove whitespace from left end\n",
    "print(first_name.lstrip())\n",
    "\n",
    "# Remove whitespace from right end\n",
    "print(last_name.rstrip())\n",
    "\n",
    "# Remove whitespaces from both ends\n",
    "print(middle_name.strip())\n",
    "\n"
   ]
  },
  {
   "cell_type": "markdown",
   "id": "3b55f8fb",
   "metadata": {},
   "source": [
    "## 2.5 Removing prefixes and suffixes"
   ]
  },
  {
   "cell_type": "code",
   "execution_count": 12,
   "id": "2302e7c8",
   "metadata": {
    "scrolled": true
   },
   "outputs": [
    {
     "name": "stdout",
     "output_type": "stream",
     "text": [
      "en.wikipedia.org/wiki/The_Usual_Suspects\n",
      "https://en.wikipedia.org/wiki/\n"
     ]
    }
   ],
   "source": [
    "# Removing prefix\n",
    "a_wiki_url = \"https://en.wikipedia.org/wiki/The_Usual_Suspects\"\n",
    "\n",
    "a_wiki_url_without_https = a_wiki_url.removeprefix(\"https://\")\n",
    "print(a_wiki_url_without_https)\n",
    "\n",
    "# Removing suffix\n",
    "wiki_mainpage = a_wiki_url.removesuffix(\"The_Usual_Suspects\")\n",
    "print(wiki_mainpage)"
   ]
  },
  {
   "cell_type": "markdown",
   "id": "98adf4e1",
   "metadata": {},
   "source": [
    "## 2.6 Avoiding syntax errors with strings"
   ]
  },
  {
   "cell_type": "code",
   "execution_count": 13,
   "id": "ba4a7c9a",
   "metadata": {
    "scrolled": true
   },
   "outputs": [
    {
     "name": "stdout",
     "output_type": "stream",
     "text": [
      "The greatest trick the Devil ever pulled was convincing the world he didn’t exist.\n"
     ]
    }
   ],
   "source": [
    "# Printing without error\n",
    "\n",
    "baudelaire_quote = \"The greatest trick the Devil ever pulled \\\n",
    "was convincing the world he didn’t exist.\"\n",
    "\n",
    "print(baudelaire_quote)"
   ]
  },
  {
   "cell_type": "code",
   "execution_count": 14,
   "id": "d18c37bb",
   "metadata": {
    "scrolled": true
   },
   "outputs": [
    {
     "data": {
      "text/plain": [
       "\" \\n# Printing with error while using single quotes\\n\\nbaudelaire_quote = 'The greatest trick the Devil ever pulled was convincing the world he didn't exist.'\\n\\nprint(baudelaire_quote)\\n\\n\""
      ]
     },
     "execution_count": 14,
     "metadata": {},
     "output_type": "execute_result"
    }
   ],
   "source": [
    "# To identify the error, remove both triple quotes and run this cell\n",
    "\n",
    "''' \n",
    "# Printing with error while using single quotes\n",
    "\n",
    "baudelaire_quote = 'The greatest trick the Devil ever pulled \\\n",
    "was convincing the world he didn't exist.'\n",
    "\n",
    "print(baudelaire_quote)\n",
    "\n",
    "'''"
   ]
  },
  {
   "cell_type": "markdown",
   "id": "d76ff9c6",
   "metadata": {},
   "source": [
    "# 3.  Numbers (Num)"
   ]
  },
  {
   "cell_type": "code",
   "execution_count": 15,
   "id": "84080401",
   "metadata": {},
   "outputs": [
    {
     "data": {
      "text/plain": [
       "5"
      ]
     },
     "execution_count": 15,
     "metadata": {},
     "output_type": "execute_result"
    },
    {
     "data": {
      "text/plain": [
       "-1"
      ]
     },
     "execution_count": 15,
     "metadata": {},
     "output_type": "execute_result"
    },
    {
     "data": {
      "text/plain": [
       "6"
      ]
     },
     "execution_count": 15,
     "metadata": {},
     "output_type": "execute_result"
    },
    {
     "data": {
      "text/plain": [
       "0.6666666666666666"
      ]
     },
     "execution_count": 15,
     "metadata": {},
     "output_type": "execute_result"
    },
    {
     "data": {
      "text/plain": [
       "8"
      ]
     },
     "execution_count": 15,
     "metadata": {},
     "output_type": "execute_result"
    }
   ],
   "source": [
    "# Integer manipulations\n",
    "\n",
    "# Addition\n",
    "2 + 3\n",
    "\n",
    "# Subtraction\n",
    "2 - 3\n",
    "\n",
    "# Multiplication\n",
    "2 * 3\n",
    "\n",
    "# Division results in float\n",
    "2 / 3\n",
    "\n",
    "# Exponentiation\n",
    "2 ** 3\n"
   ]
  },
  {
   "cell_type": "code",
   "execution_count": 18,
   "id": "0637cc26",
   "metadata": {
    "scrolled": true
   },
   "outputs": [
    {
     "data": {
      "text/plain": [
       "0.5"
      ]
     },
     "execution_count": 18,
     "metadata": {},
     "output_type": "execute_result"
    },
    {
     "data": {
      "text/plain": [
       "-0.09999999999999998"
      ]
     },
     "execution_count": 18,
     "metadata": {},
     "output_type": "execute_result"
    },
    {
     "data": {
      "text/plain": [
       "0.06"
      ]
     },
     "execution_count": 18,
     "metadata": {},
     "output_type": "execute_result"
    },
    {
     "data": {
      "text/plain": [
       "0.6666666666666667"
      ]
     },
     "execution_count": 18,
     "metadata": {},
     "output_type": "execute_result"
    },
    {
     "data": {
      "text/plain": [
       "0.6170338627200097"
      ]
     },
     "execution_count": 18,
     "metadata": {},
     "output_type": "execute_result"
    }
   ],
   "source": [
    "# Float manipulations\n",
    "\n",
    "# Addition\n",
    "0.2 + 0.3\n",
    "\n",
    "# Subtraction\n",
    "0.2 - 0.3\n",
    "\n",
    "# Multiplication\n",
    "0.2 * 0.3\n",
    "\n",
    "# Division\n",
    "0.2 / 0.3\n",
    "\n",
    "# Exponentiation\n",
    "0.2 ** 0.3"
   ]
  },
  {
   "cell_type": "code",
   "execution_count": 19,
   "id": "e60bd54a",
   "metadata": {
    "scrolled": true
   },
   "outputs": [
    {
     "data": {
      "text/plain": [
       "3.2"
      ]
     },
     "execution_count": 19,
     "metadata": {},
     "output_type": "execute_result"
    },
    {
     "data": {
      "text/plain": [
       "1.7"
      ]
     },
     "execution_count": 19,
     "metadata": {},
     "output_type": "execute_result"
    },
    {
     "data": {
      "text/plain": [
       "0.6000000000000001"
      ]
     },
     "execution_count": 19,
     "metadata": {},
     "output_type": "execute_result"
    },
    {
     "data": {
      "text/plain": [
       "6.666666666666667"
      ]
     },
     "execution_count": 19,
     "metadata": {},
     "output_type": "execute_result"
    },
    {
     "data": {
      "text/plain": [
       "1.2311444133449163"
      ]
     },
     "execution_count": 19,
     "metadata": {},
     "output_type": "execute_result"
    }
   ],
   "source": [
    "# Integer and Float manipulations; all result in floatsb\n",
    "\n",
    "0.2 + 3\n",
    "\n",
    "# Subtraction\n",
    "2 - 0.3\n",
    "\n",
    "# Multiplication\n",
    "0.2 * 3\n",
    "\n",
    "# Division\n",
    "2 / 0.3\n",
    "\n",
    "# Exponentiation\n",
    "2 ** 0.3"
   ]
  },
  {
   "cell_type": "code",
   "execution_count": 20,
   "id": "bd98891f",
   "metadata": {},
   "outputs": [
    {
     "name": "stdout",
     "output_type": "stream",
     "text": [
      "1000000000\n"
     ]
    }
   ],
   "source": [
    "# Large numbers using underscore\n",
    "\n",
    "warp_speed = 1_000_000_000\n",
    "\n",
    "print(warp_speed)"
   ]
  },
  {
   "cell_type": "code",
   "execution_count": 23,
   "id": "8ab52f2b",
   "metadata": {},
   "outputs": [
    {
     "name": "stdout",
     "output_type": "stream",
     "text": [
      "3\n",
      "two\n"
     ]
    }
   ],
   "source": [
    "# Multiple assignment\n",
    "\n",
    "mono, di, tri = 1, 2, 3\n",
    "print(tri)\n",
    "\n",
    "first, second, third = \"one\", \"two\", \"three\"\n",
    "print(second)"
   ]
  },
  {
   "cell_type": "code",
   "execution_count": 24,
   "id": "cedd0c8b",
   "metadata": {},
   "outputs": [],
   "source": [
    "# Naming constant variables using UPPER CASE.  \n",
    "# Their value is expected to remain constant throughout the program lifecycle\n",
    "\n",
    "MAX_LIFE_SPAN = 100"
   ]
  },
  {
   "cell_type": "markdown",
   "id": "c12d4698",
   "metadata": {},
   "source": [
    "# 4.Comments (Com)"
   ]
  },
  {
   "cell_type": "code",
   "execution_count": 25,
   "id": "6604a962",
   "metadata": {},
   "outputs": [],
   "source": [
    "# Main reasons (R) to write comments are to explain\n",
    "\n",
    "# R1 : What the code does\n",
    "# R2 : Why the code work"
   ]
  },
  {
   "cell_type": "code",
   "execution_count": 26,
   "id": "0e9346d0",
   "metadata": {},
   "outputs": [],
   "source": [
    "# Best practices (P) while writing comments. Comments should be\n",
    "\n",
    "# P1 : Meaningful\n",
    "# P2 : Descriptive \n",
    "# P3 : Clear\n",
    "# P4 : Concise"
   ]
  },
  {
   "cell_type": "markdown",
   "id": "aeb1f2be",
   "metadata": {},
   "source": [
    "# 5. Zen of Python (ZenPy)"
   ]
  },
  {
   "cell_type": "code",
   "execution_count": 27,
   "id": "b44c89b0",
   "metadata": {},
   "outputs": [
    {
     "name": "stdout",
     "output_type": "stream",
     "text": [
      "The Zen of Python, by Tim Peters\n",
      "\n",
      "Beautiful is better than ugly.\n",
      "Explicit is better than implicit.\n",
      "Simple is better than complex.\n",
      "Complex is better than complicated.\n",
      "Flat is better than nested.\n",
      "Sparse is better than dense.\n",
      "Readability counts.\n",
      "Special cases aren't special enough to break the rules.\n",
      "Although practicality beats purity.\n",
      "Errors should never pass silently.\n",
      "Unless explicitly silenced.\n",
      "In the face of ambiguity, refuse the temptation to guess.\n",
      "There should be one-- and preferably only one --obvious way to do it.\n",
      "Although that way may not be obvious at first unless you're Dutch.\n",
      "Now is better than never.\n",
      "Although never is often better than *right* now.\n",
      "If the implementation is hard to explain, it's a bad idea.\n",
      "If the implementation is easy to explain, it may be a good idea.\n",
      "Namespaces are one honking great idea -- let's do more of those!\n"
     ]
    }
   ],
   "source": [
    "# This is Python community's philosophy for writing good codes\n",
    "\n",
    "import this"
   ]
  }
 ],
 "metadata": {
  "kernelspec": {
   "display_name": "Python 3 (ipykernel)",
   "language": "python",
   "name": "python3"
  },
  "language_info": {
   "codemirror_mode": {
    "name": "ipython",
    "version": 3
   },
   "file_extension": ".py",
   "mimetype": "text/x-python",
   "name": "python",
   "nbconvert_exporter": "python",
   "pygments_lexer": "ipython3",
   "version": "3.9.13"
  }
 },
 "nbformat": 4,
 "nbformat_minor": 5
}

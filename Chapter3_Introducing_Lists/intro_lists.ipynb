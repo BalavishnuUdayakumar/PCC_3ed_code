{
 "cells": [
  {
   "cell_type": "code",
   "execution_count": 1,
   "id": "9269d871",
   "metadata": {},
   "outputs": [],
   "source": [
    "# To display output of all lines inside a cell\n",
    "\n",
    "from IPython.core.interactiveshell import InteractiveShell\n",
    "InteractiveShell.ast_node_interactivity = \"all\""
   ]
  },
  {
   "cell_type": "markdown",
   "id": "90aa0131",
   "metadata": {},
   "source": [
    "# 1. Basic details and manipulations"
   ]
  },
  {
   "cell_type": "markdown",
   "id": "847e4cf1",
   "metadata": {},
   "source": [
    "## 1.1 An example of a list"
   ]
  },
  {
   "cell_type": "code",
   "execution_count": 2,
   "id": "9cadd841",
   "metadata": {
    "scrolled": true
   },
   "outputs": [
    {
     "name": "stdout",
     "output_type": "stream",
     "text": [
      "['The Dark Knight', 'Inception', 'Interstellar', 'The Prestige', 'Memento']\n"
     ]
    }
   ],
   "source": [
    "# List containing five movies directed by Christopher Nolan\n",
    "\n",
    "nolan_movies = [\"The Dark Knight\", \"Inception\", \"Interstellar\", \"The Prestige\", \"Memento\"]\n",
    "\n",
    "print(nolan_movies)"
   ]
  },
  {
   "cell_type": "markdown",
   "id": "7ab5a57d",
   "metadata": {},
   "source": [
    "## 1.2 Access elements/items in a list"
   ]
  },
  {
   "cell_type": "code",
   "execution_count": 3,
   "id": "4547aca9",
   "metadata": {
    "scrolled": true
   },
   "outputs": [
    {
     "name": "stdout",
     "output_type": "stream",
     "text": [
      "The Dark Knight\n",
      "Memento\n",
      "My first Nolan movie is 'The Prestige'.\n"
     ]
    }
   ],
   "source": [
    "# Accessing through index/position of the element\n",
    "\n",
    "# First element has index 0\n",
    "print(nolan_movies[0])\n",
    "\n",
    "# Last element in the list\n",
    "print(nolan_movies[-1])\n",
    "\n",
    "# Using elements to print a message\n",
    "print(f\"My first Nolan movie is '{nolan_movies[3]}'.\")"
   ]
  },
  {
   "cell_type": "markdown",
   "id": "fb5500de",
   "metadata": {},
   "source": [
    "# 2 Modify a list"
   ]
  },
  {
   "cell_type": "code",
   "execution_count": 4,
   "id": "60adc820",
   "metadata": {
    "scrolled": true
   },
   "outputs": [
    {
     "name": "stdout",
     "output_type": "stream",
     "text": [
      "My top three favorite Nolan movies are ['The Dark Knight', 'Interstellar', 'Inception'].\n"
     ]
    }
   ],
   "source": [
    "# My top 3 Nolan movies in a list\n",
    "favorite_nolan_movies = [\"The Dark Knight\", \"Interstellar\", \"Inception\"]\n",
    "print(f\"My top three favorite Nolan movies are {favorite_nolan_movies}.\")"
   ]
  },
  {
   "cell_type": "markdown",
   "id": "e7debe80",
   "metadata": {},
   "source": [
    "## 2.1 Replace item"
   ]
  },
  {
   "cell_type": "code",
   "execution_count": 5,
   "id": "750b8b9a",
   "metadata": {},
   "outputs": [
    {
     "name": "stdout",
     "output_type": "stream",
     "text": [
      "An update: My top three favorite Nolan movies at present are ['The Dark Knight', 'Interstellar', 'The Prestige'].\n"
     ]
    }
   ],
   "source": [
    "# Replacing my 3rd favorite to \"The Prestige\"\n",
    "favorite_nolan_movies[2] = \"The Prestige\"\n",
    "print(f\"An update: My top three favorite Nolan movies at present are {favorite_nolan_movies}.\")"
   ]
  },
  {
   "cell_type": "markdown",
   "id": "b5bb67d0",
   "metadata": {},
   "source": [
    "## 2.2 Append items"
   ]
  },
  {
   "cell_type": "code",
   "execution_count": 6,
   "id": "e63bcd86",
   "metadata": {
    "scrolled": false
   },
   "outputs": [
    {
     "name": "stdout",
     "output_type": "stream",
     "text": [
      "Another update: My top five list of Nolan movies is ['The Dark Knight', 'Interstellar', 'The Prestige', 'Inception', 'Memento'].\n"
     ]
    }
   ],
   "source": [
    "# Appending my 4th and 5th favorites\n",
    "favorite_nolan_movies.append(\"Inception\")\n",
    "favorite_nolan_movies.append(\"Memento\")\n",
    "print(f\"Another update: My top five list of Nolan movies is {favorite_nolan_movies}.\")"
   ]
  },
  {
   "cell_type": "markdown",
   "id": "8baff422",
   "metadata": {},
   "source": [
    "## 2.3 Delete items"
   ]
  },
  {
   "cell_type": "code",
   "execution_count": 7,
   "id": "b2a20d38",
   "metadata": {},
   "outputs": [],
   "source": [
    "# Deleting last two elements from top5 list to obtain top3 list\n",
    "del favorite_nolan_movies[-1]\n",
    "del favorite_nolan_movies[-1]"
   ]
  },
  {
   "cell_type": "code",
   "execution_count": 8,
   "id": "0c4f812c",
   "metadata": {
    "scrolled": false
   },
   "outputs": [
    {
     "name": "stdout",
     "output_type": "stream",
     "text": [
      "['The Dark Knight', 'Interstellar', 'The Prestige']\n"
     ]
    }
   ],
   "source": [
    "print(favorite_nolan_movies)"
   ]
  },
  {
   "cell_type": "markdown",
   "id": "6072f2ca",
   "metadata": {},
   "source": [
    "## 2.4 Remove items and store it"
   ]
  },
  {
   "cell_type": "code",
   "execution_count": 9,
   "id": "bff682c7",
   "metadata": {},
   "outputs": [],
   "source": [
    "# Removing last item and assigning it to a variable\n",
    "third_favorite_nolan_movie = favorite_nolan_movies.pop()"
   ]
  },
  {
   "cell_type": "code",
   "execution_count": 10,
   "id": "ca1cd6a6",
   "metadata": {},
   "outputs": [
    {
     "name": "stdout",
     "output_type": "stream",
     "text": [
      "The Prestige\n",
      "['The Dark Knight', 'Interstellar']\n"
     ]
    }
   ],
   "source": [
    "print(third_favorite_nolan_movie)\n",
    "print(favorite_nolan_movies)"
   ]
  },
  {
   "cell_type": "code",
   "execution_count": 11,
   "id": "07263448",
   "metadata": {},
   "outputs": [],
   "source": [
    "# Popping from particular location\n",
    "most_favorite_nolan_movie = favorite_nolan_movies.pop(0)"
   ]
  },
  {
   "cell_type": "code",
   "execution_count": 12,
   "id": "15d3a984",
   "metadata": {
    "scrolled": true
   },
   "outputs": [
    {
     "name": "stdout",
     "output_type": "stream",
     "text": [
      "The Dark Knight\n",
      "['Interstellar']\n"
     ]
    }
   ],
   "source": [
    "print(most_favorite_nolan_movie)\n",
    "print(favorite_nolan_movies)"
   ]
  },
  {
   "cell_type": "markdown",
   "id": "59aafdfd",
   "metadata": {},
   "source": [
    "## 2.5 Remove item by value"
   ]
  },
  {
   "cell_type": "code",
   "execution_count": 13,
   "id": "a1069a1b",
   "metadata": {},
   "outputs": [],
   "source": [
    "# Remove an item by value\n",
    "second_favorite_nolan_movie = \"Interstellar\"\n",
    "favorite_nolan_movies.remove(second_favorite_nolan_movie)"
   ]
  },
  {
   "cell_type": "code",
   "execution_count": 14,
   "id": "78da8f21",
   "metadata": {
    "scrolled": true
   },
   "outputs": [
    {
     "name": "stdout",
     "output_type": "stream",
     "text": [
      "Interstellar\n",
      "[]\n"
     ]
    }
   ],
   "source": [
    "print(second_favorite_nolan_movie)\n",
    "print(favorite_nolan_movies)"
   ]
  },
  {
   "cell_type": "markdown",
   "id": "740c6a7e",
   "metadata": {},
   "source": [
    "# 3. Organize a list"
   ]
  },
  {
   "cell_type": "markdown",
   "id": "36db964a",
   "metadata": {},
   "source": [
    "## 3.1 Sort permanently"
   ]
  },
  {
   "cell_type": "code",
   "execution_count": 15,
   "id": "adc212a4",
   "metadata": {
    "scrolled": true
   },
   "outputs": [
    {
     "name": "stdout",
     "output_type": "stream",
     "text": [
      "['Inception', 'Interstellar', 'Memento', 'The Dark Knight', 'The Prestige']\n"
     ]
    }
   ],
   "source": [
    "# Sort Nolan movies in alphabetical order\n",
    "nolan_movies = [\"The Dark Knight\", \"Inception\", \"Interstellar\", \"The Prestige\", \"Memento\"]\n",
    "nolan_movies.sort()\n",
    "print(nolan_movies)"
   ]
  },
  {
   "cell_type": "code",
   "execution_count": 16,
   "id": "262df96e",
   "metadata": {},
   "outputs": [
    {
     "name": "stdout",
     "output_type": "stream",
     "text": [
      "['The Prestige', 'The Dark Knight', 'Memento', 'Interstellar', 'Inception']\n"
     ]
    }
   ],
   "source": [
    "# Sort in reverse order\n",
    "nolan_movies.sort(reverse = True)\n",
    "print(nolan_movies)"
   ]
  },
  {
   "cell_type": "markdown",
   "id": "51196c47",
   "metadata": {},
   "source": [
    "## 3.2 Sort temporarily"
   ]
  },
  {
   "cell_type": "code",
   "execution_count": 17,
   "id": "0596d3b2",
   "metadata": {
    "scrolled": true
   },
   "outputs": [
    {
     "data": {
      "text/plain": [
       "['Inception', 'Interstellar', 'Memento', 'The Dark Knight', 'The Prestige']"
      ]
     },
     "execution_count": 17,
     "metadata": {},
     "output_type": "execute_result"
    },
    {
     "name": "stdout",
     "output_type": "stream",
     "text": [
      "['The Prestige', 'The Dark Knight', 'Memento', 'Interstellar', 'Inception']\n"
     ]
    }
   ],
   "source": [
    "#  Display in a sorted order temporarily\n",
    "sorted(nolan_movies)\n",
    "\n",
    "# Print original\n",
    "print(nolan_movies)"
   ]
  },
  {
   "cell_type": "markdown",
   "id": "cd9d8bfa",
   "metadata": {},
   "source": [
    "## 3.3 Print list in reverse order"
   ]
  },
  {
   "cell_type": "code",
   "execution_count": 18,
   "id": "78c5c031",
   "metadata": {},
   "outputs": [
    {
     "name": "stdout",
     "output_type": "stream",
     "text": [
      "['Inception', 'Interstellar', 'Memento', 'The Dark Knight', 'The Prestige']\n"
     ]
    }
   ],
   "source": [
    "# Permanently reverse the order of the list\n",
    "nolan_movies.reverse()\n",
    "print(nolan_movies)"
   ]
  },
  {
   "cell_type": "markdown",
   "id": "a1ad4e72",
   "metadata": {},
   "source": [
    "## 3.4 Find length"
   ]
  },
  {
   "cell_type": "code",
   "execution_count": 19,
   "id": "62cb9067",
   "metadata": {},
   "outputs": [
    {
     "data": {
      "text/plain": [
       "5"
      ]
     },
     "execution_count": 19,
     "metadata": {},
     "output_type": "execute_result"
    }
   ],
   "source": [
    "# Count number of items in a list\n",
    "len(nolan_movies)"
   ]
  },
  {
   "cell_type": "markdown",
   "id": "0d2e77a6",
   "metadata": {},
   "source": [
    "# 4. Avoid index error"
   ]
  },
  {
   "cell_type": "code",
   "execution_count": 23,
   "id": "e78896da",
   "metadata": {},
   "outputs": [
    {
     "data": {
      "text/plain": [
       "'\\nprint(nolan_movies[5])\\n'"
      ]
     },
     "execution_count": 23,
     "metadata": {},
     "output_type": "execute_result"
    }
   ],
   "source": [
    "# Remove the enclosing triple quotes to run the cell and see the error\n",
    "\n",
    "'''\n",
    "print(nolan_movies[5])\n",
    "'''"
   ]
  },
  {
   "cell_type": "code",
   "execution_count": 25,
   "id": "e1c3d6fe",
   "metadata": {},
   "outputs": [
    {
     "ename": "IndexError",
     "evalue": "list index out of range",
     "output_type": "error",
     "traceback": [
      "\u001b[1;31m---------------------------------------------------------------------------\u001b[0m",
      "\u001b[1;31mIndexError\u001b[0m                                Traceback (most recent call last)",
      "\u001b[1;32m~\\AppData\\Local\\Temp\\ipykernel_3624\\3129439726.py\u001b[0m in \u001b[0;36m<module>\u001b[1;34m\u001b[0m\n\u001b[0;32m      2\u001b[0m \u001b[1;33m\u001b[0m\u001b[0m\n\u001b[0;32m      3\u001b[0m \u001b[0mempty_list\u001b[0m \u001b[1;33m=\u001b[0m \u001b[1;33m[\u001b[0m\u001b[1;33m]\u001b[0m\u001b[1;33m\u001b[0m\u001b[1;33m\u001b[0m\u001b[0m\n\u001b[1;32m----> 4\u001b[1;33m \u001b[0mprint\u001b[0m\u001b[1;33m(\u001b[0m\u001b[0mempty_list\u001b[0m\u001b[1;33m[\u001b[0m\u001b[1;36m0\u001b[0m\u001b[1;33m]\u001b[0m\u001b[1;33m)\u001b[0m\u001b[1;33m\u001b[0m\u001b[1;33m\u001b[0m\u001b[0m\n\u001b[0m",
      "\u001b[1;31mIndexError\u001b[0m: list index out of range"
     ]
    }
   ],
   "source": [
    "# Remove the enclosing triple quotes to run the cell and see the error\n",
    "\n",
    "'''\n",
    "empty_list = []\n",
    "print(empty_list[0])\n",
    "'''"
   ]
  }
 ],
 "metadata": {
  "kernelspec": {
   "display_name": "Python 3 (ipykernel)",
   "language": "python",
   "name": "python3"
  },
  "language_info": {
   "codemirror_mode": {
    "name": "ipython",
    "version": 3
   },
   "file_extension": ".py",
   "mimetype": "text/x-python",
   "name": "python",
   "nbconvert_exporter": "python",
   "pygments_lexer": "ipython3",
   "version": "3.9.13"
  }
 },
 "nbformat": 4,
 "nbformat_minor": 5
}

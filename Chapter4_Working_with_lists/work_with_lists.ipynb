{
 "cells": [
  {
   "cell_type": "code",
   "execution_count": 1,
   "id": "77a5d344",
   "metadata": {},
   "outputs": [],
   "source": [
    "# To display output of all lines inside a cell\n",
    "\n",
    "from IPython.core.interactiveshell import InteractiveShell\n",
    "InteractiveShell.ast_node_interactivity = \"all\""
   ]
  },
  {
   "cell_type": "markdown",
   "id": "65aa8f28",
   "metadata": {},
   "source": [
    "# 1. Looping through a list"
   ]
  },
  {
   "cell_type": "markdown",
   "id": "f25f8497",
   "metadata": {},
   "source": [
    "## 1.1 Basic idea"
   ]
  },
  {
   "cell_type": "code",
   "execution_count": 2,
   "id": "8f30e11e",
   "metadata": {},
   "outputs": [
    {
     "name": "stdout",
     "output_type": "stream",
     "text": [
      "The Dark Knight\n",
      "Inception\n",
      "Interstellar\n",
      "The Prestige\n",
      "Memento\n"
     ]
    }
   ],
   "source": [
    "# Print all items in a list one by one\n",
    "\n",
    "nolan_movies = [\"The Dark Knight\", \"Inception\", \"Interstellar\", \"The Prestige\", \"Memento\"]\n",
    "\n",
    "for movie in nolan_movies:\n",
    "    print(movie)"
   ]
  },
  {
   "cell_type": "markdown",
   "id": "7739302c",
   "metadata": {},
   "source": [
    "## 1.2 Indentation error"
   ]
  },
  {
   "cell_type": "code",
   "execution_count": 8,
   "id": "1d7d6d58",
   "metadata": {},
   "outputs": [
    {
     "data": {
      "text/plain": [
       "'\\nfor movie in nolan_movies:\\nprint(movie)\\n'"
      ]
     },
     "execution_count": 8,
     "metadata": {},
     "output_type": "execute_result"
    }
   ],
   "source": [
    "# Forgetting to indent\n",
    "# Code in previous cell without indentaton after \"for\" statement\n",
    "\n",
    "# Remove triple quotes to run this cell and see the error message\n",
    "\n",
    "'''\n",
    "for movie in nolan_movies:\n",
    "print(movie)\n",
    "'''"
   ]
  },
  {
   "cell_type": "code",
   "execution_count": 10,
   "id": "2032aa48",
   "metadata": {},
   "outputs": [
    {
     "data": {
      "text/plain": [
       "'\\nfirst_nolan_movie = \"Following\"\\n print(first_nolan_movie)\\n'"
      ]
     },
     "execution_count": 10,
     "metadata": {},
     "output_type": "execute_result"
    }
   ],
   "source": [
    "# Unnecessary indentation\n",
    "\n",
    "# Remove triple quotes to run this cell and see the error message\n",
    "'''\n",
    "first_nolan_movie = \"Following\"\n",
    " print(first_nolan_movie)\n",
    "'''"
   ]
  },
  {
   "cell_type": "markdown",
   "id": "0f863a13",
   "metadata": {},
   "source": [
    "## 1.3 Syntax error"
   ]
  },
  {
   "cell_type": "code",
   "execution_count": 12,
   "id": "decab932",
   "metadata": {},
   "outputs": [
    {
     "data": {
      "text/plain": [
       "'\\nfor movie in nolan_movies\\n    print(movie)\\n'"
      ]
     },
     "execution_count": 12,
     "metadata": {},
     "output_type": "execute_result"
    }
   ],
   "source": [
    "# Forgettinng colon at the end of the \"for\" statement\n",
    "\n",
    "# Remove triple quotes to run this cell and see the error message\n",
    "'''\n",
    "for movie in nolan_movies\n",
    "    print(movie)\n",
    "'''"
   ]
  },
  {
   "cell_type": "markdown",
   "id": "cae21db5",
   "metadata": {},
   "source": [
    "# 2. Making numerical list"
   ]
  },
  {
   "cell_type": "markdown",
   "id": "b7d04b8b",
   "metadata": {},
   "source": [
    "## 2.1 Using range function"
   ]
  },
  {
   "cell_type": "code",
   "execution_count": 13,
   "id": "8e9e2bb8",
   "metadata": {},
   "outputs": [
    {
     "name": "stdout",
     "output_type": "stream",
     "text": [
      "7\n",
      "8\n",
      "9\n",
      "10\n",
      "11\n"
     ]
    }
   ],
   "source": [
    "# Print numbers from 7 to 11\n",
    "\n",
    "for number in range(7, 12):\n",
    "    print(number)"
   ]
  },
  {
   "cell_type": "code",
   "execution_count": 14,
   "id": "f6e952c5",
   "metadata": {},
   "outputs": [
    {
     "name": "stdout",
     "output_type": "stream",
     "text": [
      "7\n",
      "8\n",
      "9\n",
      "10\n",
      "11\n"
     ]
    }
   ],
   "source": [
    "# Generalize code in the previous cell for any two numbers\n",
    "# Note that second number in range function is not inclusive\n",
    "\n",
    "start_number = 7;\n",
    "end_number = 11;\n",
    "\n",
    "for number in range(start_number, end_number + 1):\n",
    "    print(number)"
   ]
  },
  {
   "cell_type": "code",
   "execution_count": 15,
   "id": "11d0c0ed",
   "metadata": {
    "scrolled": true
   },
   "outputs": [
    {
     "name": "stdout",
     "output_type": "stream",
     "text": [
      "0\n",
      "1\n",
      "2\n",
      "3\n",
      "4\n",
      "5\n",
      "6\n",
      "7\n"
     ]
    }
   ],
   "source": [
    "# Range function takes start_number as 0 if only one argument is provided\n",
    "\n",
    "# Print numbers from 0 to 7\n",
    "\n",
    "for number in range(8):\n",
    "    print(number)"
   ]
  },
  {
   "cell_type": "markdown",
   "id": "933f1b55",
   "metadata": {},
   "source": [
    "## 2.2 Using range() to make list of numbers"
   ]
  },
  {
   "cell_type": "code",
   "execution_count": 16,
   "id": "9ca49da5",
   "metadata": {},
   "outputs": [
    {
     "name": "stdout",
     "output_type": "stream",
     "text": [
      "[0, 1, 2, 3, 4, 5, 6, 7]\n"
     ]
    }
   ],
   "source": [
    "# Create a list of number from 0 to 7 including both 0 & 7\n",
    "\n",
    "list_of_numbers = list(range(8))\n",
    "print(list_of_numbers)"
   ]
  },
  {
   "cell_type": "code",
   "execution_count": 19,
   "id": "d084dfab",
   "metadata": {},
   "outputs": [
    {
     "name": "stdout",
     "output_type": "stream",
     "text": [
      "[7, 9, 11, 13, 15, 17, 19]\n"
     ]
    }
   ],
   "source": [
    "# Use of incremental steps in range()\n",
    "\n",
    "start_number = 7\n",
    "end_number = 19\n",
    "\n",
    "increment = 2\n",
    "\n",
    "odd_numbers = list(range(start_number, end_number + 1, increment))\n",
    "print(odd_numbers)"
   ]
  },
  {
   "cell_type": "code",
   "execution_count": 20,
   "id": "d226ec68",
   "metadata": {},
   "outputs": [
    {
     "name": "stdout",
     "output_type": "stream",
     "text": [
      "[1, 4, 9, 16, 25, 36, 49, 64, 81, 100]\n"
     ]
    }
   ],
   "source": [
    "# Create a list from scratch : list of squares of first ten numbers\n",
    "\n",
    "squares = []\n",
    "\n",
    "for number in range(1, 11):\n",
    "    squares.append(number**2)\n",
    "\n",
    "print(squares)"
   ]
  },
  {
   "cell_type": "markdown",
   "id": "174fc111",
   "metadata": {},
   "source": [
    "## 2.3 Simple statistics with list"
   ]
  },
  {
   "cell_type": "code",
   "execution_count": 23,
   "id": "70a96a7c",
   "metadata": {},
   "outputs": [
    {
     "name": "stdout",
     "output_type": "stream",
     "text": [
      "385\n"
     ]
    }
   ],
   "source": [
    "# Sum of squares of first 10 numbers\n",
    "\n",
    "print(sum(squares))"
   ]
  },
  {
   "cell_type": "code",
   "execution_count": 24,
   "id": "3b768aa9",
   "metadata": {},
   "outputs": [
    {
     "name": "stdout",
     "output_type": "stream",
     "text": [
      "1\n"
     ]
    }
   ],
   "source": [
    "# Minimum number in the list of squares\n",
    "\n",
    "print(min(squares))"
   ]
  },
  {
   "cell_type": "code",
   "execution_count": 25,
   "id": "16cb5dd9",
   "metadata": {
    "scrolled": true
   },
   "outputs": [
    {
     "name": "stdout",
     "output_type": "stream",
     "text": [
      "100\n"
     ]
    }
   ],
   "source": [
    "# Max number in the list of squares\n",
    "\n",
    "print(max(squares))"
   ]
  },
  {
   "cell_type": "markdown",
   "id": "b65fa296",
   "metadata": {},
   "source": [
    "## 2.4 List comprehensions"
   ]
  },
  {
   "cell_type": "code",
   "execution_count": 26,
   "id": "be299353",
   "metadata": {},
   "outputs": [
    {
     "name": "stdout",
     "output_type": "stream",
     "text": [
      "[1, 4, 9, 16, 25, 36, 49, 64, 81, 100]\n"
     ]
    }
   ],
   "source": [
    "# Alternate way to create the list of squares of first ten numbers\n",
    "\n",
    "squares = [number ** 2 for number in range(1, 11)]\n",
    "print(squares)"
   ]
  },
  {
   "cell_type": "markdown",
   "id": "46d24837",
   "metadata": {},
   "source": [
    "# 3. Working with part of a list"
   ]
  },
  {
   "cell_type": "markdown",
   "id": "0c5bdd69",
   "metadata": {},
   "source": [
    "## 3.1 Slicing a list"
   ]
  },
  {
   "cell_type": "code",
   "execution_count": 30,
   "id": "82a4c0cd",
   "metadata": {},
   "outputs": [],
   "source": [
    "# A list of Christopher Nolan movies\n",
    "\n",
    "nolan_movies = [\"The Dark Knight\", \"Inception\", \"Interstellar\", \"The Prestige\", \"Memento\"]"
   ]
  },
  {
   "cell_type": "code",
   "execution_count": 31,
   "id": "7e108d4e",
   "metadata": {},
   "outputs": [
    {
     "name": "stdout",
     "output_type": "stream",
     "text": [
      "['The Dark Knight', 'Inception']\n",
      "['The Dark Knight', 'Inception']\n"
     ]
    }
   ],
   "source": [
    "# First two elements in the list of Nolan movies\n",
    "\n",
    "first_two_movies1 = nolan_movies[0:2]\n",
    "print(first_two_movies1)\n",
    "\n",
    "first_two_movies2 = nolan_movies[:2]\n",
    "print(first_two_movies2)"
   ]
  },
  {
   "cell_type": "code",
   "execution_count": 33,
   "id": "3beb2bda",
   "metadata": {},
   "outputs": [
    {
     "name": "stdout",
     "output_type": "stream",
     "text": [
      "['Interstellar', 'The Prestige', 'Memento']\n",
      "['Interstellar', 'The Prestige', 'Memento']\n",
      "['Interstellar', 'The Prestige', 'Memento']\n",
      "['Interstellar', 'The Prestige']\n"
     ]
    }
   ],
   "source": [
    "# Print 3rd to last movies\n",
    "\n",
    "third_to_end1 = nolan_movies[2:5]\n",
    "print(third_to_end1)\n",
    "\n",
    "third_to_end2 = nolan_movies[2: len(nolan_movies) + 1]\n",
    "print(third_to_end2)\n",
    "\n",
    "third_to_end3 = nolan_movies[2:]\n",
    "print(third_to_end3)"
   ]
  },
  {
   "cell_type": "code",
   "execution_count": 36,
   "id": "b1fb3c70",
   "metadata": {},
   "outputs": [
    {
     "name": "stdout",
     "output_type": "stream",
     "text": [
      "['The Prestige', 'Memento']\n",
      "['The Prestige', 'Memento']\n"
     ]
    }
   ],
   "source": [
    "# Print last two movies\n",
    "\n",
    "last_two1 = nolan_movies[-2:]\n",
    "print(last_two1)\n",
    "\n",
    "last_two2 = nolan_movies[-2: len(nolan_movies) + 1]\n",
    "print(last_two2)"
   ]
  },
  {
   "cell_type": "code",
   "execution_count": 41,
   "id": "acd10646",
   "metadata": {},
   "outputs": [
    {
     "name": "stdout",
     "output_type": "stream",
     "text": [
      "['The Dark Knight', 'Interstellar', 'Memento']\n",
      "['The Dark Knight', 'Interstellar', 'Memento']\n"
     ]
    }
   ],
   "source": [
    "# Print movies in alternate positions\n",
    "\n",
    "alternate_movies1 = nolan_movies[0: len(nolan_movies) + 1: 2]\n",
    "print(alternate_movies1)\n",
    "\n",
    "alternate_movies2 = nolan_movies[: : 2]\n",
    "print(alternate_movies2)"
   ]
  },
  {
   "cell_type": "code",
   "execution_count": 43,
   "id": "2ce26a5d",
   "metadata": {},
   "outputs": [
    {
     "name": "stdout",
     "output_type": "stream",
     "text": [
      "['Memento', 'The Prestige', 'Interstellar', 'Inception', 'The Dark Knight']\n"
     ]
    }
   ],
   "source": [
    "# Print reverse list\n",
    "\n",
    "reverse_movies = nolan_movies[-1: -len(nolan_movies) - 1: -1]\n",
    "print(reverse_movies)"
   ]
  },
  {
   "cell_type": "markdown",
   "id": "89dfc700",
   "metadata": {},
   "source": [
    "## 3.2 Looping through a slice"
   ]
  },
  {
   "cell_type": "code",
   "execution_count": 44,
   "id": "9fd4f8f5",
   "metadata": {},
   "outputs": [
    {
     "name": "stdout",
     "output_type": "stream",
     "text": [
      "['The Dark Knight', 'Inception', 'Interstellar']\n"
     ]
    }
   ],
   "source": [
    "# Loop through first 3 movies and append them to an empty list\n",
    "\n",
    "first_three_movies = []\n",
    "\n",
    "for movie in nolan_movies[:3]:\n",
    "    first_three_movies.append(movie)\n",
    "    \n",
    "print(first_three_movies)"
   ]
  },
  {
   "cell_type": "code",
   "execution_count": 48,
   "id": "21fe99c4",
   "metadata": {},
   "outputs": [
    {
     "name": "stdout",
     "output_type": "stream",
     "text": [
      "['The Dark Knight', 'Inception', 'Interstellar']\n"
     ]
    }
   ],
   "source": [
    "# Repeat the above task using list comprehension\n",
    "\n",
    "first_three_movies2 = [movie for movie in nolan_movies[:3]]\n",
    "print(first_three_movies2)"
   ]
  },
  {
   "cell_type": "markdown",
   "id": "e0cfc49b",
   "metadata": {},
   "source": [
    "## 3.3 Copying a list"
   ]
  },
  {
   "cell_type": "code",
   "execution_count": 50,
   "id": "4cf767f1",
   "metadata": {
    "scrolled": true
   },
   "outputs": [
    {
     "name": "stdout",
     "output_type": "stream",
     "text": [
      "['The Dark Knight', 'Inception', 'Interstellar', 'The Prestige', 'Memento']\n",
      "['The Dark Knight', 'Inception', 'Interstellar', 'The Prestige', 'Memento']\n"
     ]
    }
   ],
   "source": [
    "# Copy the entire list\n",
    "\n",
    "nolan_movies_copy = nolan_movies[:]\n",
    "print(nolan_movies)\n",
    "print(nolan_movies_copy)"
   ]
  },
  {
   "cell_type": "code",
   "execution_count": 52,
   "id": "e2353a63",
   "metadata": {},
   "outputs": [
    {
     "name": "stdout",
     "output_type": "stream",
     "text": [
      "['The Dark Knight', 'Inception', 'Interstellar', 'The Prestige', 'Memento', 'Following']\n",
      "['The Dark Knight', 'Inception', 'Interstellar', 'The Prestige', 'Memento', 'Following', 'Following']\n",
      "['The Dark Knight', 'Inception', 'Interstellar', 'The Prestige', 'Memento']\n"
     ]
    }
   ],
   "source": [
    "# Copying without slicing operation lead to both variable names refering to the same list \n",
    "\n",
    "nolan_movies_copy1 = nolan_movies\n",
    "print(nolan_movies_copy1)\n",
    "\n",
    "nolan_movies.append(\"Following\") # adding a new movie to the original list\n",
    "print(nolan_movies_copy1) # the new copy (made without slicing operation) \n",
    "\n",
    "print(nolan_movies_copy) # the previous copy (made with slicing operation) "
   ]
  },
  {
   "cell_type": "markdown",
   "id": "ce07dedc",
   "metadata": {},
   "source": [
    "# 4. Tuples"
   ]
  },
  {
   "cell_type": "markdown",
   "id": "db682d25",
   "metadata": {},
   "source": [
    "## 4.1 Defining a tuple"
   ]
  },
  {
   "cell_type": "code",
   "execution_count": 53,
   "id": "fa79a221",
   "metadata": {
    "scrolled": true
   },
   "outputs": [
    {
     "name": "stdout",
     "output_type": "stream",
     "text": [
      "('Following', 1998)\n"
     ]
    }
   ],
   "source": [
    "# Tuples are lists that are immutable (doesnt change)\n",
    "\n",
    "first_nolan_movie_year = (\"Following\", 1998)\n",
    "print(first_nolan_movie_year)"
   ]
  },
  {
   "cell_type": "code",
   "execution_count": 54,
   "id": "5592a740",
   "metadata": {},
   "outputs": [
    {
     "name": "stdout",
     "output_type": "stream",
     "text": [
      "('Memento', 2000)\n"
     ]
    }
   ],
   "source": [
    "# Another way to write tuples is without parenthesis\n",
    "\n",
    "second_nolan_movie_year = \"Memento\", 2000\n",
    "print(second_nolan_movie_year)"
   ]
  },
  {
   "cell_type": "code",
   "execution_count": 56,
   "id": "0e324035",
   "metadata": {},
   "outputs": [
    {
     "data": {
      "text/plain": [
       "'\\nfirst_nolan_movie_year[0] = \"The Dark Knight\"\\n'"
      ]
     },
     "execution_count": 56,
     "metadata": {},
     "output_type": "execute_result"
    }
   ],
   "source": [
    "# Error while trying to modify items in a tuple\n",
    "\n",
    "# Remove the triple quotes and run the cell to identify the error\n",
    "'''\n",
    "first_nolan_movie_year[0] = \"The Dark Knight\"\n",
    "'''"
   ]
  },
  {
   "cell_type": "markdown",
   "id": "31825083",
   "metadata": {},
   "source": [
    "## 4.2 Looping through a tuple"
   ]
  },
  {
   "cell_type": "code",
   "execution_count": 57,
   "id": "8f13ebe1",
   "metadata": {
    "scrolled": true
   },
   "outputs": [
    {
     "name": "stdout",
     "output_type": "stream",
     "text": [
      "Following\n",
      "The Dark Knight\n"
     ]
    }
   ],
   "source": [
    "# Loop through a tuple and print its items\n",
    "\n",
    "first_two_nolan_movies = (\"Following\", \"The Dark Knight\")\n",
    "\n",
    "for movie in first_two_nolan_movies:\n",
    "    print(movie)"
   ]
  },
  {
   "cell_type": "markdown",
   "id": "bc8a1dee",
   "metadata": {},
   "source": [
    "## 4.3 Writing over a tuple"
   ]
  },
  {
   "cell_type": "code",
   "execution_count": 58,
   "id": "3e7190ea",
   "metadata": {},
   "outputs": [
    {
     "name": "stdout",
     "output_type": "stream",
     "text": [
      "('gniwolloF', 'thginK kraD ehT')\n"
     ]
    }
   ],
   "source": [
    "# Write over the entire tuple by redefining it with same variable name\n",
    "\n",
    "first_two_nolan_movies = (\"gniwolloF\", \"thginK kraD ehT\")\n",
    "print(first_two_nolan_movies)"
   ]
  }
 ],
 "metadata": {
  "kernelspec": {
   "display_name": "Python 3 (ipykernel)",
   "language": "python",
   "name": "python3"
  },
  "language_info": {
   "codemirror_mode": {
    "name": "ipython",
    "version": 3
   },
   "file_extension": ".py",
   "mimetype": "text/x-python",
   "name": "python",
   "nbconvert_exporter": "python",
   "pygments_lexer": "ipython3",
   "version": "3.9.13"
  }
 },
 "nbformat": 4,
 "nbformat_minor": 5
}

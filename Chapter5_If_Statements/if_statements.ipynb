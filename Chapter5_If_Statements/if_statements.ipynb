{
 "cells": [
  {
   "cell_type": "code",
   "execution_count": 1,
   "id": "43aaaa7f",
   "metadata": {},
   "outputs": [],
   "source": [
    "# To display output of all lines inside a cell\n",
    "\n",
    "from IPython.core.interactiveshell import InteractiveShell\n",
    "InteractiveShell.ast_node_interactivity = \"all\""
   ]
  },
  {
   "cell_type": "markdown",
   "id": "f901287b",
   "metadata": {},
   "source": [
    "# 1. Introduction and examples"
   ]
  },
  {
   "cell_type": "markdown",
   "id": "e3e62265",
   "metadata": {},
   "source": [
    "## 1.1 An example"
   ]
  },
  {
   "cell_type": "code",
   "execution_count": 2,
   "id": "cb6c34f5",
   "metadata": {},
   "outputs": [
    {
     "name": "stdout",
     "output_type": "stream",
     "text": [
      "('Nolan', 'Following', 1998)\n"
     ]
    }
   ],
   "source": [
    "# Create a list of tuples with directors, their first movie, and the year it was released\n",
    "\n",
    "director_movie_year = [(\"Nolan\", \"Following\", 1998), (\"Tarantino\", \"Reservoir Dogs\", 1992)]\n",
    "\n",
    "# Loop through the list to print details of movie released after the year 1995\n",
    "for item in director_movie_year:\n",
    "    if item[-1] > 1995:\n",
    "        print(item)"
   ]
  },
  {
   "cell_type": "markdown",
   "id": "7d5dbb31",
   "metadata": {},
   "source": [
    "## 1.2 Check for equality and ignoring case"
   ]
  },
  {
   "cell_type": "code",
   "execution_count": 3,
   "id": "62bc50ba",
   "metadata": {
    "scrolled": true
   },
   "outputs": [
    {
     "name": "stdout",
     "output_type": "stream",
     "text": [
      "('Nolan', 'Following', 1998)\n"
     ]
    }
   ],
   "source": [
    "# Print the tuple if director is Nolan\n",
    "\n",
    "for item in director_movie_year:\n",
    "    if item[0].lower() == \"nolan\":\n",
    "        print(item)"
   ]
  },
  {
   "cell_type": "markdown",
   "id": "a6d6d203",
   "metadata": {},
   "source": [
    "## 1.3 Check for inequality"
   ]
  },
  {
   "cell_type": "code",
   "execution_count": 4,
   "id": "2e02cd1a",
   "metadata": {},
   "outputs": [
    {
     "name": "stdout",
     "output_type": "stream",
     "text": [
      "('Tarantino', 'Reservoir Dogs', 1992)\n"
     ]
    }
   ],
   "source": [
    "# Print the tuple if director is not Nolan\n",
    "\n",
    "for item in director_movie_year:\n",
    "    if item[0].lower() != \"nolan\":\n",
    "        print(item)"
   ]
  },
  {
   "cell_type": "markdown",
   "id": "df7cf311",
   "metadata": {},
   "source": [
    "## 1.4 Check multiple conditions"
   ]
  },
  {
   "cell_type": "code",
   "execution_count": 5,
   "id": "2c379611",
   "metadata": {},
   "outputs": [
    {
     "name": "stdout",
     "output_type": "stream",
     "text": [
      "('Nolan', 'Following', 1998)\n",
      "('Tarantino', 'Reservoir Dogs', 1992)\n"
     ]
    }
   ],
   "source": [
    "# Print if director is Nolan or release date is before 1995\n",
    "\n",
    "for item in director_movie_year:\n",
    "    if item[0].lower() == \"nolan\" or item[-1] < 1995:\n",
    "        print(item)"
   ]
  },
  {
   "cell_type": "markdown",
   "id": "fa0a5756",
   "metadata": {},
   "source": [
    "## 1.5 Check whether a value is present or not"
   ]
  },
  {
   "cell_type": "code",
   "execution_count": 6,
   "id": "4476a5e2",
   "metadata": {},
   "outputs": [
    {
     "data": {
      "text/plain": [
       "True"
      ]
     },
     "execution_count": 6,
     "metadata": {},
     "output_type": "execute_result"
    }
   ],
   "source": [
    "# Check if there is any movie directed by Nolan\n",
    " \n",
    "(\"Nolan\", \"Following\", 1998) in director_movie_year"
   ]
  },
  {
   "cell_type": "code",
   "execution_count": 7,
   "id": "09d67399",
   "metadata": {},
   "outputs": [
    {
     "data": {
      "text/plain": [
       "True"
      ]
     },
     "execution_count": 7,
     "metadata": {},
     "output_type": "execute_result"
    },
    {
     "data": {
      "text/plain": [
       "False"
      ]
     },
     "execution_count": 7,
     "metadata": {},
     "output_type": "execute_result"
    }
   ],
   "source": [
    "# Check if a movie is not in a tuple\n",
    "\n",
    "tuple_nolan_movie = (\"Nolan\", \"Following\", 1998)\n",
    "\"Following\" in tuple_nolan_movie\n",
    "\"Following\" not in tuple_nolan_movie"
   ]
  },
  {
   "cell_type": "markdown",
   "id": "3c3dc3cc",
   "metadata": {},
   "source": [
    "# 2. Types of if statements"
   ]
  },
  {
   "cell_type": "markdown",
   "id": "33348aa2",
   "metadata": {},
   "source": [
    "## 2.1 If-else"
   ]
  },
  {
   "cell_type": "code",
   "execution_count": 8,
   "id": "a167a131",
   "metadata": {},
   "outputs": [
    {
     "name": "stdout",
     "output_type": "stream",
     "text": [
      "'Following' is a Nolan movie\n",
      "'Reservoir Dogs' is not a Nolan movie\n"
     ]
    }
   ],
   "source": [
    "# Print whether or not a Nolan movie\n",
    "\n",
    "for item in director_movie_year:\n",
    "    if item[0].lower() == \"nolan\":\n",
    "        print(f\"'{item[1]}' is a Nolan movie\")\n",
    "    else:\n",
    "        print(f\"'{item[1]}' is not a Nolan movie\")"
   ]
  },
  {
   "cell_type": "markdown",
   "id": "90ab7bd3",
   "metadata": {},
   "source": [
    "## 2.2 If-elif-else"
   ]
  },
  {
   "cell_type": "code",
   "execution_count": 9,
   "id": "b508d4fa",
   "metadata": {},
   "outputs": [
    {
     "name": "stdout",
     "output_type": "stream",
     "text": [
      "[('Nolan', 'Following', 1998), ('Tarantino', 'Reservoir Dogs', 1992), ('Mel Gibson', 'Brave Heart', 1995)]\n"
     ]
    }
   ],
   "source": [
    "# Add a new item\n",
    "\n",
    "director_movie_year.append((\"Mel Gibson\", \"Brave Heart\", 1995))\n",
    "print(director_movie_year)"
   ]
  },
  {
   "cell_type": "code",
   "execution_count": 10,
   "id": "d5d2eadd",
   "metadata": {},
   "outputs": [
    {
     "name": "stdout",
     "output_type": "stream",
     "text": [
      "The movie 'Following' directed by Nolan was released after 1995.\n",
      "The movie 'Reservoir Dogs' directed by Tarantino was released before 1995.\n",
      "The movie 'Brave Heart' directed by Mel Gibson was released in 1995.\n"
     ]
    }
   ],
   "source": [
    "# Print items only when specific conditions are satisfied\n",
    "\n",
    "for item in director_movie_year:\n",
    "    if item[-1] < 1995:\n",
    "        print(f\"The movie '{item[1]}' directed by {item[0]} was released before 1995.\")\n",
    "    elif item[-1] == 1995:\n",
    "        print(f\"The movie '{item[1]}' directed by {item[0]} was released in 1995.\")\n",
    "    else:\n",
    "        print(f\"The movie '{item[1]}' directed by {item[0]} was released after 1995.\")"
   ]
  },
  {
   "cell_type": "markdown",
   "id": "9f364f2b",
   "metadata": {},
   "source": [
    "## 2.3 Multiple elif"
   ]
  },
  {
   "cell_type": "code",
   "execution_count": 11,
   "id": "b5394750",
   "metadata": {},
   "outputs": [],
   "source": [
    "director_movie_year.extend([(\"Nolan\", \"Memento\", 1998), ('Nolan', 'Prestige', 2006),\\\n",
    "                            (\"Nolan\", \"Interstellar\", 2014),(\"Nolan\", \"Tenet\", 2020)])"
   ]
  },
  {
   "cell_type": "code",
   "execution_count": 12,
   "id": "14acc845",
   "metadata": {},
   "outputs": [
    {
     "name": "stdout",
     "output_type": "stream",
     "text": [
      "[('Nolan', 'Following', 1998), ('Tarantino', 'Reservoir Dogs', 1992), ('Mel Gibson', 'Brave Heart', 1995), ('Nolan', 'Memento', 1998), ('Nolan', 'Prestige', 2006), ('Nolan', 'Interstellar', 2014), ('Nolan', 'Tenet', 2020)]\n"
     ]
    }
   ],
   "source": [
    "print(director_movie_year)"
   ]
  },
  {
   "cell_type": "code",
   "execution_count": 13,
   "id": "ba335af3",
   "metadata": {},
   "outputs": [
    {
     "name": "stdout",
     "output_type": "stream",
     "text": [
      "'Following' is a Nolan movie released before 2000\n",
      "'Reservoir Dogs' is not a Nolan movie.\n",
      "'Brave Heart' is not a Nolan movie.\n",
      "'Memento' is a Nolan movie released before 2000\n",
      "'Prestige' is a Nolan movie released between 2000 and 2010\n",
      "'Interstellar' is a Nolan movie released between 2010 and 2020\n",
      "'Tenet' is a Nolan movie released on or after 2020\n"
     ]
    }
   ],
   "source": [
    "# More specific conditions \n",
    "\n",
    "for item in director_movie_year:\n",
    "    if item[0].lower() == \"nolan\" and item[-1] < 2000:\n",
    "        print(f\"'{item[1]}' is a Nolan movie released before 2000\")\n",
    "    elif item[0].lower() == \"nolan\" and item[-1] >= 2000 and item[-1] < 2010:\n",
    "        print(f\"'{item[1]}' is a Nolan movie released between 2000 and 2010\")\n",
    "    elif item[0].lower() == \"nolan\" and item[-1] >= 2010 and item[-1] < 2020:\n",
    "        print(f\"'{item[1]}' is a Nolan movie released between 2010 and 2020\")\n",
    "    elif item[0].lower() == \"nolan\" and item[-1] >= 2020:\n",
    "        print(f\"'{item[1]}' is a Nolan movie released on or after 2020\")\n",
    "    else:\n",
    "        print(f\"'{item[1]}' is not a Nolan movie.\")"
   ]
  },
  {
   "cell_type": "markdown",
   "id": "7f7fe977",
   "metadata": {},
   "source": [
    "# 3. Check if a list is empty"
   ]
  },
  {
   "cell_type": "code",
   "execution_count": 14,
   "id": "ed3ea49b",
   "metadata": {},
   "outputs": [
    {
     "name": "stdout",
     "output_type": "stream",
     "text": [
      "Favorite Nolan movie not found.\n"
     ]
    }
   ],
   "source": [
    "# If list is non-empty, print all items; else print \"not found\"\n",
    "\n",
    "favorite_nolan_movies = []\n",
    "\n",
    "if favorite_nolan_movies:\n",
    "    for movie in favorite_nolan_movies:\n",
    "        print(f\"'{movie}' is in the list of my favorite Nolan movies.\")\n",
    "    print(\"All my favorite Nolan movies have been displayed.\")\n",
    "else:\n",
    "    print(\"Favorite Nolan movie not found.\")"
   ]
  },
  {
   "cell_type": "markdown",
   "id": "a8b088a7",
   "metadata": {},
   "source": [
    "# 4. Using multiple lists"
   ]
  },
  {
   "cell_type": "code",
   "execution_count": 15,
   "id": "3ad7e6ee",
   "metadata": {},
   "outputs": [
    {
     "name": "stdout",
     "output_type": "stream",
     "text": [
      "'The Dark Knight' is in the list of my favorites.\n",
      "'Inception' is not in the list of my favorites.\n",
      "'Interstellar' is in the list of my favorites.\n",
      "'The Prestige' is not in the list of my favorites.\n",
      "'Memento' is not in the list of my favorites.\n"
     ]
    }
   ],
   "source": [
    "# Print if movie from a list is a favorite movie or not.\n",
    "\n",
    "nolan_movies = [\"The Dark Knight\", \"Inception\", \"Interstellar\", \"The Prestige\", \"Memento\"]\n",
    "favorite_nolan_movies = [\"The Dark Knight\", \"Interstellar\"]\n",
    "\n",
    "for movie in nolan_movies:\n",
    "    if movie in favorite_nolan_movies:\n",
    "        print(f\"'{movie}' is in the list of my favorites.\")\n",
    "    else:\n",
    "        print(f\"'{movie}' is not in the list of my favorites.\")"
   ]
  }
 ],
 "metadata": {
  "kernelspec": {
   "display_name": "Python 3 (ipykernel)",
   "language": "python",
   "name": "python3"
  },
  "language_info": {
   "codemirror_mode": {
    "name": "ipython",
    "version": 3
   },
   "file_extension": ".py",
   "mimetype": "text/x-python",
   "name": "python",
   "nbconvert_exporter": "python",
   "pygments_lexer": "ipython3",
   "version": "3.9.13"
  }
 },
 "nbformat": 4,
 "nbformat_minor": 5
}

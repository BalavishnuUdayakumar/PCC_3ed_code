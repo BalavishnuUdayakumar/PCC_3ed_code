{
 "cells": [
  {
   "cell_type": "code",
   "execution_count": 1,
   "id": "e712d93d",
   "metadata": {},
   "outputs": [],
   "source": [
    "# To display output of all lines inside a cell\n",
    "\n",
    "from IPython.core.interactiveshell import InteractiveShell\n",
    "InteractiveShell.ast_node_interactivity = \"all\""
   ]
  },
  {
   "cell_type": "markdown",
   "id": "c1187713",
   "metadata": {},
   "source": [
    "# 1. Dictionary: Examples and Basic Working"
   ]
  },
  {
   "cell_type": "markdown",
   "id": "4b659fd8",
   "metadata": {},
   "source": [
    "## 1.1 Example 1"
   ]
  },
  {
   "cell_type": "code",
   "execution_count": 2,
   "id": "a120378e",
   "metadata": {},
   "outputs": [],
   "source": [
    "director_movie = {\"Nolan\": \"The Dark Knight\", \"Tarantino\": \"Kill Bill: Vol. 1\", \"Fincher\": \"Se7en\", \\\n",
    "                  \"Cameron\": \"Terminator 2: Judgement Day\"}"
   ]
  },
  {
   "cell_type": "code",
   "execution_count": 3,
   "id": "44eda6a5",
   "metadata": {},
   "outputs": [
    {
     "name": "stdout",
     "output_type": "stream",
     "text": [
      "The Dark Knight\n",
      "Se7en\n"
     ]
    }
   ],
   "source": [
    "# Print value (movie: string) of a given key (direcctor: string)\n",
    "\n",
    "print(director_movie[\"Nolan\"])\n",
    "\n",
    "print(director_movie[\"Fincher\"])"
   ]
  },
  {
   "cell_type": "markdown",
   "id": "82780f18",
   "metadata": {},
   "source": [
    "## 1.2 Example 2"
   ]
  },
  {
   "cell_type": "code",
   "execution_count": 4,
   "id": "7a1f89c7",
   "metadata": {},
   "outputs": [],
   "source": [
    "nolan_year_movie = {2008: \"The Dark Knight\", 2006: \"The Prestige\", 2014: \"Interstellar\", 2000: \"Memento\"}"
   ]
  },
  {
   "cell_type": "code",
   "execution_count": 5,
   "id": "7a10aeb9",
   "metadata": {},
   "outputs": [
    {
     "name": "stdout",
     "output_type": "stream",
     "text": [
      "The Prestige\n",
      "Memento\n"
     ]
    }
   ],
   "source": [
    "# Print value (movie: string) of a given key (year: integer)\n",
    "\n",
    "print(nolan_year_movie[2006])\n",
    "\n",
    "print(nolan_year_movie[2000])"
   ]
  },
  {
   "cell_type": "markdown",
   "id": "3fd2bd23",
   "metadata": {},
   "source": [
    "## 1.3 Example 3"
   ]
  },
  {
   "cell_type": "code",
   "execution_count": 6,
   "id": "f762a8dd",
   "metadata": {},
   "outputs": [],
   "source": [
    "director_movie_year = {\"Nolan\": (\"The Dark Knight\", 2008), \"Tarantino\": (\"Kill Bill: Vol. 1\", 2003), \\\n",
    "                  \"Fincher\": (\"Se7en\", 1995), \"Cameron\": (\"Terminator 2: Judgement Day\", 1991)}"
   ]
  },
  {
   "cell_type": "code",
   "execution_count": 7,
   "id": "63b27c97",
   "metadata": {},
   "outputs": [
    {
     "name": "stdout",
     "output_type": "stream",
     "text": [
      "The Dark Knight\n",
      "Se7en\n"
     ]
    }
   ],
   "source": [
    "# Print value ((movie, release_year): tuple) of a given key (direcctor: string)\n",
    "\n",
    "print(director_movie[\"Nolan\"])\n",
    "\n",
    "print(director_movie[\"Fincher\"])"
   ]
  },
  {
   "cell_type": "markdown",
   "id": "e22cb730",
   "metadata": {},
   "source": [
    "## 1.4 Example 4"
   ]
  },
  {
   "cell_type": "code",
   "execution_count": 8,
   "id": "8482639b",
   "metadata": {},
   "outputs": [],
   "source": [
    "director_movies = {\"Nolan\": [\"The Dark Knight\", \"The Prestige\", \"Interstellar\", \"Memento\"],\\\n",
    "          \"Tarantino\": [\"Pulp Fiction\", \"Kill Bill: Vol.1\", \"Reservoir Dogs\", \"Inglorius Basterds\"],\\\n",
    "          \"Fincher\": [\"The Game\", \"Fight Club\", \"Zodiac\", \"Se7en\"],\\\n",
    "          \"Cameron\": [\"Aliens\", \"Terminator 2: Judgement Day\", \"Titanic\", \"True Lies\"]}"
   ]
  },
  {
   "cell_type": "code",
   "execution_count": 9,
   "id": "5771891c",
   "metadata": {},
   "outputs": [
    {
     "name": "stdout",
     "output_type": "stream",
     "text": [
      "['The Dark Knight', 'The Prestige', 'Interstellar', 'Memento']\n",
      "['The Game', 'Fight Club', 'Zodiac', 'Se7en']\n"
     ]
    }
   ],
   "source": [
    "# Print value (movies: list) of a given key (direcctor: string)\n",
    "\n",
    "print(director_movies[\"Nolan\"])\n",
    "\n",
    "print(director_movies[\"Fincher\"])"
   ]
  },
  {
   "cell_type": "markdown",
   "id": "020d4b11",
   "metadata": {},
   "source": [
    "## 1.5 Example 5"
   ]
  },
  {
   "cell_type": "code",
   "execution_count": 10,
   "id": "3e690687",
   "metadata": {},
   "outputs": [],
   "source": [
    "director_year_movies = {\"Nolan\": {2008: \"The Dark Knight\", 2006: \"The Prestige\", \\\n",
    "                             2014: \"Interstellar\", 2000: \"Memento\"},\\\n",
    "                   \"Tarantino\": {1994: \"Pulp Fiction\", 2003: \"Kill Bill: Vol.1\", \\\n",
    "                                 1992: \"Reservoir Dogs\", 2009: \"Inglorius Basterds\"},\\\n",
    "                   \"Fincher\": {1997: \"The Game\", 1999: \"Fight Club\", \\\n",
    "                               2007: \"Zodiac\", 1995: \"Se7en\"},\\\n",
    "                   \"Cameron\": {1986: \"Aliens\", 1991: \"Terminator 2: Judgement Day\", \\\n",
    "                               1997: \"Titanic\", 1994: \"True Lies\"} \\\n",
    "                  }"
   ]
  },
  {
   "cell_type": "code",
   "execution_count": 11,
   "id": "3898408f",
   "metadata": {
    "scrolled": true
   },
   "outputs": [
    {
     "name": "stdout",
     "output_type": "stream",
     "text": [
      "{2008: 'The Dark Knight', 2006: 'The Prestige', 2014: 'Interstellar', 2000: 'Memento'}\n",
      "{1997: 'The Game', 1999: 'Fight Club', 2007: 'Zodiac', 1995: 'Se7en'}\n"
     ]
    }
   ],
   "source": [
    "# Print value ((year: Key, movie: value): dictionary) of a given key (director: string)\n",
    "\n",
    "print(director_year_movies[\"Nolan\"])\n",
    "\n",
    "print(director_year_movies[\"Fincher\"])"
   ]
  },
  {
   "cell_type": "markdown",
   "id": "505d0912",
   "metadata": {},
   "source": [
    "## 1.6 Adding new key-value pair "
   ]
  },
  {
   "cell_type": "code",
   "execution_count": 12,
   "id": "2c284cd3",
   "metadata": {},
   "outputs": [
    {
     "name": "stdout",
     "output_type": "stream",
     "text": [
      "{'Nolan': 'The Dark Knight', 'Tarantino': 'Kill Bill: Vol. 1', 'Fincher': 'Se7en', 'Cameron': 'Terminator 2: Judgement Day'}\n",
      "{'Nolan': 'The Dark Knight', 'Tarantino': 'Kill Bill: Vol. 1', 'Fincher': 'Se7en', 'Cameron': 'Terminator 2: Judgement Day', 'Spielberg': 'Jurassic Park'}\n"
     ]
    }
   ],
   "source": [
    "director_movie = {\"Nolan\": \"The Dark Knight\", \"Tarantino\": \"Kill Bill: Vol. 1\", \"Fincher\": \"Se7en\", \\\n",
    "                  \"Cameron\": \"Terminator 2: Judgement Day\"}\n",
    "print(director_movie)\n",
    "\n",
    "director_movie[\"Spielberg\"] = \"Jurassic Park\"\n",
    "print(director_movie)"
   ]
  },
  {
   "cell_type": "markdown",
   "id": "f076e132",
   "metadata": {},
   "source": [
    "## 1.7 Starting with an empty dictionary and add items"
   ]
  },
  {
   "cell_type": "code",
   "execution_count": 13,
   "id": "5bfe492b",
   "metadata": {},
   "outputs": [
    {
     "name": "stdout",
     "output_type": "stream",
     "text": [
      "{'Nolan': 'The Prestige'}\n",
      "{'Nolan': 'The Prestige', 'Fincher': 'Se7en'}\n"
     ]
    }
   ],
   "source": [
    "# Create a dictionary from scratch\n",
    "\n",
    "favorite_movies = {}\n",
    "\n",
    "favorite_movies[\"Nolan\"] = \"The Prestige\"\n",
    "print(favorite_movies)\n",
    "\n",
    "favorite_movies[\"Fincher\"] = \"Se7en\"\n",
    "print(favorite_movies)"
   ]
  },
  {
   "cell_type": "markdown",
   "id": "6475b0f5",
   "metadata": {},
   "source": [
    "## 1.8 Modifying values in a dictionary"
   ]
  },
  {
   "cell_type": "code",
   "execution_count": 15,
   "id": "f618d495",
   "metadata": {},
   "outputs": [
    {
     "name": "stdout",
     "output_type": "stream",
     "text": [
      "{'Nolan': 'The Dark Knight', 'Fincher': 'Se7en'}\n"
     ]
    }
   ],
   "source": [
    "# Modify the value of a key in a dictionary\n",
    "\n",
    "favorite_movies[\"Nolan\"] = \"The Dark Knight\"\n",
    "print(favorite_movies)"
   ]
  },
  {
   "cell_type": "markdown",
   "id": "0df59cbc",
   "metadata": {},
   "source": [
    "## 1.9 Removing key-value pair"
   ]
  },
  {
   "cell_type": "code",
   "execution_count": 16,
   "id": "10171f09",
   "metadata": {},
   "outputs": [
    {
     "name": "stdout",
     "output_type": "stream",
     "text": [
      "{'Fincher': 'Se7en'}\n"
     ]
    }
   ],
   "source": [
    "# Remove a key-value pair in a dictionary\n",
    "\n",
    "del favorite_movies[\"Nolan\"]\n",
    "print(favorite_movies)"
   ]
  },
  {
   "cell_type": "markdown",
   "id": "5d030018",
   "metadata": {},
   "source": [
    "## 1.10 Use get() to access values or print a default value"
   ]
  },
  {
   "cell_type": "code",
   "execution_count": 22,
   "id": "7b7bffbf",
   "metadata": {},
   "outputs": [
    {
     "name": "stdout",
     "output_type": "stream",
     "text": [
      "{'Fincher': 'Se7en'}\n"
     ]
    },
    {
     "data": {
      "text/plain": [
       "'\\nprint(favorite_movies[\"Nolan\"])\\n'"
      ]
     },
     "execution_count": 22,
     "metadata": {},
     "output_type": "execute_result"
    }
   ],
   "source": [
    "# KeyError message\n",
    "\n",
    "print(favorite_movies)\n",
    "\n",
    "# To see the error message, remove the triple quotes and run the code within \n",
    "'''\n",
    "print(favorite_movies[\"Nolan\"])\n",
    "'''"
   ]
  },
  {
   "cell_type": "code",
   "execution_count": 24,
   "id": "99323d04",
   "metadata": {},
   "outputs": [
    {
     "name": "stdout",
     "output_type": "stream",
     "text": [
      "Se7en\n",
      "No value assigned to this key\n"
     ]
    }
   ],
   "source": [
    "# Use get() method to avoid the KeyError and print a default message\n",
    "\n",
    "print(favorite_movies.get(\"Fincher\", \"No value assigned to this key\"))\n",
    "\n",
    "print(favorite_movies.get(\"Nolan\", \"No value assigned to this key\"))"
   ]
  },
  {
   "cell_type": "markdown",
   "id": "809a779b",
   "metadata": {},
   "source": [
    "# 2. Looping through a dictionary"
   ]
  },
  {
   "cell_type": "markdown",
   "id": "41f17944",
   "metadata": {},
   "source": [
    "## 2.1 Looping through all key-value pairs"
   ]
  },
  {
   "cell_type": "code",
   "execution_count": 29,
   "id": "b53a5228",
   "metadata": {},
   "outputs": [
    {
     "name": "stdout",
     "output_type": "stream",
     "text": [
      "{'first_name': 'Christopher', 'last_name': 'Nolan', 'first_movie': 'Following (1998)', 'most_popular_movie': 'The Dark Knight (2008)'}\n",
      "\n",
      "Key: first_name, Value: Christopher\n",
      "\n",
      "Key: last_name, Value: Nolan\n",
      "\n",
      "Key: first_movie, Value: Following (1998)\n",
      "\n",
      "Key: most_popular_movie, Value: The Dark Knight (2008)\n"
     ]
    }
   ],
   "source": [
    "# Example 1:\n",
    "\n",
    "nolan = {\"first_name\": \"Christopher\",\n",
    "         \"last_name\": \"Nolan\",\n",
    "         \"first_movie\": \"Following (1998)\",\n",
    "         \"most_popular_movie\": \"The Dark Knight (2008)\"\n",
    "         }\n",
    "\n",
    "print(nolan)\n",
    "\n",
    "for key, value in nolan.items():\n",
    "    print(f\"\\nKey: {key}, Value: {value}\")"
   ]
  },
  {
   "cell_type": "code",
   "execution_count": 37,
   "id": "608ed7d2",
   "metadata": {
    "scrolled": true
   },
   "outputs": [
    {
     "name": "stdout",
     "output_type": "stream",
     "text": [
      "{'Nolan': 'The Dark Knight', 'Tarantino': 'Kill Bill: Vol. 1', 'Fincher': 'Se7en', 'Cameron': 'Terminator 2: Judgement Day'}\n",
      "\n",
      "The movie 'The Dark Knight' was directed by Nolan\n",
      "\n",
      "The movie 'Kill Bill: Vol. 1' was directed by Tarantino\n",
      "\n",
      "The movie 'Se7en' was directed by Fincher\n",
      "\n",
      "The movie 'Terminator 2: Judgement Day' was directed by Cameron\n"
     ]
    }
   ],
   "source": [
    "# Example 2:\n",
    "\n",
    "director_movie = {\"Nolan\": \"The Dark Knight\", \"Tarantino\": \"Kill Bill: Vol. 1\", \"Fincher\": \"Se7en\", \\\n",
    "                  \"Cameron\": \"Terminator 2: Judgement Day\"}\n",
    "\n",
    "print(director_movie)\n",
    "\n",
    "for director, movie in director_movie.items():\n",
    "    print(f\"\\nThe movie '{movie}' was directed by {director}\")"
   ]
  },
  {
   "cell_type": "markdown",
   "id": "89420a57",
   "metadata": {},
   "source": [
    "## 2.2 Loop separately through all keys and values"
   ]
  },
  {
   "cell_type": "code",
   "execution_count": 48,
   "id": "18d05774",
   "metadata": {},
   "outputs": [],
   "source": [
    "favorite_movie_director = {\"The Shawshank Redemption (1994)\": \"Darabont\",\n",
    "                            \"The Lord of the Rings: The Fellowship of the Ring (2001)\": \"Jackson\",\n",
    "                            \"Up (2009)\": \"Docter\",\n",
    "                            \"The God Father (1972)\": \"Coppola\",\n",
    "                            \"Old Boy (2003)\": \"Chan-wook\"\n",
    "                           }"
   ]
  },
  {
   "cell_type": "code",
   "execution_count": 42,
   "id": "24e28ed3",
   "metadata": {},
   "outputs": [
    {
     "name": "stdout",
     "output_type": "stream",
     "text": [
      "The Shawshank Redemption (1994)\n",
      "The Lord of the Rings: The Fellowship of the Ring (2001)\n",
      "UP (2009)\n",
      "The God Father (1972)\n",
      "Old Boy (2003)\n"
     ]
    }
   ],
   "source": [
    "# Loop through keys. Method 1:\n",
    "\n",
    "for favorite_movie in favorite_movie_director.keys():\n",
    "    print(favorite_movie) "
   ]
  },
  {
   "cell_type": "code",
   "execution_count": 45,
   "id": "447feed9",
   "metadata": {
    "scrolled": true
   },
   "outputs": [
    {
     "name": "stdout",
     "output_type": "stream",
     "text": [
      "The Shawshank Redemption (1994)\n",
      "The Lord of the Rings: The Fellowship of the Ring (2001)\n",
      "UP (2009)\n",
      "The God Father (1972)\n",
      "Old Boy (2003)\n"
     ]
    }
   ],
   "source": [
    "# Loop through keys. Method 2:\n",
    "\n",
    "for favorite_movie in favorite_movie_director:\n",
    "    print(favorite_movie) "
   ]
  },
  {
   "cell_type": "code",
   "execution_count": 47,
   "id": "b9aadb41",
   "metadata": {},
   "outputs": [
    {
     "name": "stdout",
     "output_type": "stream",
     "text": [
      "Darabont\n",
      "Jackson\n",
      "Docter\n",
      "Coppola\n",
      "Chan-wook\n"
     ]
    }
   ],
   "source": [
    "# Loop through all values\n",
    "\n",
    "for director in favorite_movie_director.values():\n",
    "    print(director) "
   ]
  },
  {
   "cell_type": "markdown",
   "id": "1acc2b45",
   "metadata": {},
   "source": [
    "## 2.3 Looping through keys in particular order"
   ]
  },
  {
   "cell_type": "code",
   "execution_count": 49,
   "id": "b064b46b",
   "metadata": {},
   "outputs": [],
   "source": [
    "favorite_movie_year = {1994: \"The Shawshank Redemption\",\n",
    "                       2001: \"The Lord of the Rings: The Fellowship of the Ring\",\n",
    "                       2009: \"Up\",\n",
    "                       1972: \"The God Father\",\n",
    "                       2003: \"Old Boy\"\n",
    "                      } "
   ]
  },
  {
   "cell_type": "code",
   "execution_count": 51,
   "id": "a7e1e07e",
   "metadata": {
    "scrolled": true
   },
   "outputs": [
    {
     "name": "stdout",
     "output_type": "stream",
     "text": [
      "1972 The God Father\n",
      "1994 The Shawshank Redemption\n",
      "2001 The Lord of the Rings: The Fellowship of the Ring\n",
      "2003 Old Boy\n",
      "2009 Up\n"
     ]
    }
   ],
   "source": [
    "# Print in ascending order of release year (keys)\n",
    "\n",
    "for year in sorted(favorite_movie_year.keys()):\n",
    "    print(year, favorite_movie_year[year])"
   ]
  },
  {
   "cell_type": "code",
   "execution_count": 59,
   "id": "aacd75cf",
   "metadata": {
    "scrolled": true
   },
   "outputs": [
    {
     "name": "stdout",
     "output_type": "stream",
     "text": [
      "Old Boy\n",
      "The God Father\n",
      "The Lord of the Rings: The Fellowship of the Ring\n",
      "The Shawshank Redemption\n",
      "Up\n"
     ]
    }
   ],
   "source": [
    "# Print favorite movies (values) in alphabetical order\n",
    "\n",
    "for movie in sorted(favorite_movie_year.values()):\n",
    "    print(movie)"
   ]
  },
  {
   "cell_type": "markdown",
   "id": "7ee1322d",
   "metadata": {},
   "source": [
    "# 3. Nesting"
   ]
  },
  {
   "cell_type": "markdown",
   "id": "3605156a",
   "metadata": {},
   "source": [
    "## 3.1 A list of dictionaries"
   ]
  },
  {
   "cell_type": "code",
   "execution_count": 61,
   "id": "0a34820d",
   "metadata": {},
   "outputs": [
    {
     "name": "stdout",
     "output_type": "stream",
     "text": [
      "{'Following': 1998}\n",
      "{'Reservoir Dogs': 1992}\n",
      "{'Alien 3': 1992}\n"
     ]
    }
   ],
   "source": [
    "# List of favorite directors; wherein for each director first movie and its release year are stored as dictionary\n",
    "\n",
    "Nolan = {\"Following\": 1998}\n",
    "Tarantino = {\"Reservoir Dogs\": 1992}\n",
    "Fincher = {\"Alien 3\": 1992}\n",
    "\n",
    "favorite_directors = [Nolan, Tarantino, Fincher]\n",
    "\n",
    "for director in favorite_directors:\n",
    "    print(director)"
   ]
  },
  {
   "cell_type": "markdown",
   "id": "87bb800f",
   "metadata": {},
   "source": [
    "## 3.2 A list in dictionary"
   ]
  },
  {
   "cell_type": "code",
   "execution_count": 83,
   "id": "9cccc1e0",
   "metadata": {},
   "outputs": [
    {
     "name": "stdout",
     "output_type": "stream",
     "text": [
      "The movie name is The Dark Knight.\n",
      "The movie director is Christopher Nolan.\n",
      "The movie release year is 2008.\n",
      "The movie main cast is ['Christian Bale', 'Heath Ledger', 'Gary Oldman', 'Aaron Eckhart', 'Morgan Freeman', 'Michael Caine', 'Maggie Gyllenhaal', 'Cillian Murphy'].\n"
     ]
    }
   ],
   "source": [
    "# Details of a movie as a dictionary; wherein the main cast is a list\n",
    "\n",
    "movie_details = {\n",
    "                 \"name\": \"The Dark Knight\",\n",
    "                 \"director\": \"Christopher Nolan\",\n",
    "                 \"release year\": \"2008\",\n",
    "                 \"main cast\": [\"Christian Bale\", \"Heath Ledger\", \"Gary Oldman\", \n",
    "                               \"Aaron Eckhart\", \"Morgan Freeman\", \"Michael Caine\", \n",
    "                               \"Maggie Gyllenhaal\", \"Cillian Murphy\"]   \n",
    "                }\n",
    "\n",
    "for detail_key, detail_values in movie_details.items():\n",
    "    print(f\"The movie {detail_key} is {detail_values}.\")"
   ]
  },
  {
   "cell_type": "markdown",
   "id": "78fdc67b",
   "metadata": {},
   "source": [
    "## 3.3 A dictionary in a dictionary"
   ]
  },
  {
   "cell_type": "code",
   "execution_count": 98,
   "id": "05786fb1",
   "metadata": {},
   "outputs": [
    {
     "name": "stdout",
     "output_type": "stream",
     "text": [
      "\n",
      "Details of movie id Nolan_TDK_2008 are:\n",
      "The movie name is: The Dark Knight\n",
      "The movie director is: Christopher Nolan\n",
      "The movie release year is: 2008\n",
      "The movie main cast is: ['Christian Bale', 'Heath Ledger', 'Gary Oldman', 'Aaron Eckhart', 'Morgan Freeman', 'Michael Caine', 'Maggie Gyllenhaal', 'Cillian Murphy']\n",
      "\n",
      "Details of movie id Tarantino_KBV1_2003 are:\n",
      "The movie name is: Kill Bill: Vol. 1\n",
      "The movie director is: Quentin Tarantino\n",
      "The movie release year is: 2003\n",
      "The movie main cast is: ['Uma Thurman', 'Lucy Liu', 'David Carradine', 'Daryl Hannah', 'Vivica A. Fox', 'Michael Madsen', 'Chiaki Kuriyama', 'Julie Dreyfus', \"Shin'ichi Chiba\"]\n",
      "\n",
      "Details of movie id Fincher_7_1995 are:\n",
      "The movie name is: Se7en\n",
      "The movie director is: David Fincher\n",
      "The movie release year is: 1995\n",
      "The movie main cast is: ['Brad Pitt', 'Morgan Freeman', 'Kevin Spacey', 'Gwyneth Paltrow']\n"
     ]
    }
   ],
   "source": [
    "movie_id_details = {\n",
    "                 \"Nolan_TDK_2008\": {\"name\": \"The Dark Knight\",\n",
    "                                    \"director\": \"Christopher Nolan\",\n",
    "                                    \"release year\": \"2008\",\n",
    "                                    \"main cast\": [\"Christian Bale\", \"Heath Ledger\", \"Gary Oldman\", \n",
    "                                                  \"Aaron Eckhart\", \"Morgan Freeman\", \"Michael Caine\", \n",
    "                                                  \"Maggie Gyllenhaal\", \"Cillian Murphy\"]   \n",
    "                                   },\n",
    "                 \"Tarantino_KBV1_2003\": {\"name\": \"Kill Bill: Vol. 1\",\n",
    "                                    \"director\": \"Quentin Tarantino\",\n",
    "                                    \"release year\": \"2003\",\n",
    "                                    \"main cast\": [\"Uma Thurman\", \"Lucy Liu\", \"David Carradine\", \n",
    "                                                  \"Daryl Hannah\", \"Vivica A. Fox\", \"Michael Madsen\", \n",
    "                                                  \"Chiaki Kuriyama\", \"Julie Dreyfus\", \"Shin'ichi Chiba\"]   \n",
    "                                   },\n",
    "                 \"Fincher_7_1995\": {\"name\": \"Se7en\",\n",
    "                                    \"director\": \"David Fincher\",\n",
    "                                    \"release year\": \"1995\",\n",
    "                                    \"main cast\": [\"Brad Pitt\", \"Morgan Freeman\", \n",
    "                                                  \"Kevin Spacey\", \"Gwyneth Paltrow\"]   \n",
    "                                   }\n",
    "                }\n",
    "\n",
    "for movie_id, movie_details in movie_id_details.items():\n",
    "    print(f\"\\nDetails of movie id {movie_id} are:\")\n",
    "    for detail_key, detail_value in movie_details.items():    \n",
    "        print(f\"The movie {detail_key} is: {detail_value}\")"
   ]
  }
 ],
 "metadata": {
  "kernelspec": {
   "display_name": "Python 3 (ipykernel)",
   "language": "python",
   "name": "python3"
  },
  "language_info": {
   "codemirror_mode": {
    "name": "ipython",
    "version": 3
   },
   "file_extension": ".py",
   "mimetype": "text/x-python",
   "name": "python",
   "nbconvert_exporter": "python",
   "pygments_lexer": "ipython3",
   "version": "3.9.13"
  }
 },
 "nbformat": 4,
 "nbformat_minor": 5
}

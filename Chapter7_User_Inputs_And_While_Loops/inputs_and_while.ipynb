{
 "cells": [
  {
   "cell_type": "code",
   "execution_count": 1,
   "id": "19631193",
   "metadata": {},
   "outputs": [],
   "source": [
    "# To display output of all lines inside a cell\n",
    "\n",
    "from IPython.core.interactiveshell import InteractiveShell\n",
    "InteractiveShell.ast_node_interactivity = \"all\""
   ]
  },
  {
   "cell_type": "markdown",
   "id": "e474ac8a",
   "metadata": {},
   "source": [
    "# 1. Basic working of input() function"
   ]
  },
  {
   "cell_type": "markdown",
   "id": "c2aedf65",
   "metadata": {},
   "source": [
    "## 1.1 An example"
   ]
  },
  {
   "cell_type": "code",
   "execution_count": 2,
   "id": "103f4341",
   "metadata": {},
   "outputs": [
    {
     "name": "stdout",
     "output_type": "stream",
     "text": [
      "Share your favorite movie name. I will print back a message for you:The Dark Knight\n",
      "\n",
      "'The Dark Knight' is an awesome movie! I like it too!\n"
     ]
    }
   ],
   "source": [
    "# Display a message to fetch user input\n",
    "\n",
    "message = input(\"Share your favorite movie name. I will print back a message for you:\")\n",
    "print(f\"\\n'{message.title()}' is an awesome movie! I like it too!\")"
   ]
  },
  {
   "cell_type": "markdown",
   "id": "f6baac9e",
   "metadata": {},
   "source": [
    "## 1.2 Write clear prompts"
   ]
  },
  {
   "cell_type": "code",
   "execution_count": 3,
   "id": "a630cd00",
   "metadata": {},
   "outputs": [
    {
     "name": "stdout",
     "output_type": "stream",
     "text": [
      "Share your favorite movie name. I will print back a message for you: The Dark Knight\n",
      "\n",
      "'The Dark Knight' is an awesome movie! I like it too!\n"
     ]
    }
   ],
   "source": [
    "# Enter space after the prompt. Repeat the previoous prompt and end with a space after the colon\n",
    "\n",
    "message = input(\"Share your favorite movie name. I will print back a message for you: \")\n",
    "print(f\"\\n'{message.title()}' is an awesome movie! I like it too!\")"
   ]
  },
  {
   "cell_type": "code",
   "execution_count": 4,
   "id": "fe6ffb33",
   "metadata": {},
   "outputs": [
    {
     "name": "stdout",
     "output_type": "stream",
     "text": [
      "Share your favorite movie name. I will print back a message for you.\n",
      "However, there will be a surprise. See for yourself; enter the movie name now: The Dark Knight\n",
      "'Thgink Krad Eht' is an awesome movie. Surprise! I reversed the movie name!\n"
     ]
    }
   ],
   "source": [
    "# Include multiple lines in the prompt\n",
    "\n",
    "message = \"Share your favorite movie name. I will print back a message for you.\"\n",
    "message += \"\\nHowever, there will be a surprise. See for yourself; enter the movie name now: \"\n",
    "\n",
    "movie_name = input(message)\n",
    "\n",
    "movie_name_striped = list(movie_name.strip(\"\"))\n",
    "movie_name_striped.reverse()\n",
    "movie_name_reversed = \"\".join(movie_name_striped).title()\n",
    "\n",
    "print(f\"'{movie_name_reversed}' is an awesome movie. Surprise! I reversed the movie name!\")"
   ]
  },
  {
   "cell_type": "markdown",
   "id": "b5fbb5b7",
   "metadata": {},
   "source": [
    "## 1.3 Use int() to accept numerical input"
   ]
  },
  {
   "cell_type": "code",
   "execution_count": 5,
   "id": "5cd4b84d",
   "metadata": {},
   "outputs": [
    {
     "name": "stdout",
     "output_type": "stream",
     "text": [
      "How old are you? 45\n",
      "You are 45 years old.\n",
      "\n",
      "Note: datatype of 45 is <class 'str'>.\n"
     ]
    }
   ],
   "source": [
    "# input() results in string. int() can be used to convert numerical inputs to integers\n",
    "\n",
    "age = input(\"How old are you? \")\n",
    "print(f\"You are {age} years old.\")\n",
    "print(f\"\\nNote: datatype of {age} is {type(age)}.\")"
   ]
  },
  {
   "cell_type": "code",
   "execution_count": 6,
   "id": "33dfd70d",
   "metadata": {},
   "outputs": [
    {
     "name": "stdout",
     "output_type": "stream",
     "text": [
      "How old are you? 56\n",
      "You are 56 years old.\n",
      "\n",
      "Note: datatype of 56 is <class 'int'>.\n"
     ]
    }
   ],
   "source": [
    "age = int(input(\"How old are you? \"))\n",
    "print(f\"You are {age} years old.\")\n",
    "print(f\"\\nNote: datatype of {age} is {type(age)}.\")"
   ]
  },
  {
   "cell_type": "markdown",
   "id": "010fc144",
   "metadata": {},
   "source": [
    "## 1.4 The modulo operator"
   ]
  },
  {
   "cell_type": "code",
   "execution_count": 7,
   "id": "bebe9e25",
   "metadata": {},
   "outputs": [
    {
     "name": "stdout",
     "output_type": "stream",
     "text": [
      "Enter any integer you like: 89\n",
      "The integer 89 is odd.\n"
     ]
    }
   ],
   "source": [
    "# Check if an integer entered by the user is odd or even\n",
    "\n",
    "number = int(input(\"Enter any integer you like: \"))\n",
    "\n",
    "if number % 2 == 0:\n",
    "    print(f\"The integer {number} is even.\")\n",
    "else:\n",
    "    print(f\"The integer {number} is odd.\")"
   ]
  },
  {
   "cell_type": "markdown",
   "id": "b928f513",
   "metadata": {},
   "source": [
    "# 2. Basic working of while loop"
   ]
  },
  {
   "cell_type": "markdown",
   "id": "7a94560c",
   "metadata": {},
   "source": [
    "## 2.1 An example"
   ]
  },
  {
   "cell_type": "code",
   "execution_count": 9,
   "id": "8a59f7eb",
   "metadata": {},
   "outputs": [
    {
     "name": "stdout",
     "output_type": "stream",
     "text": [
      "Enter any integer you like (or 'q' to quit): q\n",
      "You have successfully exited the program. Thanks for playing!\n"
     ]
    }
   ],
   "source": [
    "# Allow the user to check several integer for odd or even\n",
    "\n",
    "number = \"\"\n",
    "while number != \"q\":\n",
    "    number = input(\"Enter any integer you like (or 'q' to quit): \")\n",
    "    \n",
    "    if number == \"q\":\n",
    "        print(\"You have successfully exited the program. Thanks for playing!\")\n",
    "        \n",
    "    elif int(number) % 2 == 0:\n",
    "        print(f\"The integer {number} is even.\")\n",
    "    else:\n",
    "        print(f\"The integer {number} is odd.\")"
   ]
  },
  {
   "cell_type": "markdown",
   "id": "159462ed",
   "metadata": {},
   "source": [
    "## 2.2 Using a flag"
   ]
  },
  {
   "cell_type": "code",
   "execution_count": 10,
   "id": "513b675f",
   "metadata": {},
   "outputs": [
    {
     "name": "stdout",
     "output_type": "stream",
     "text": [
      "Enter any integer you like (or 'q' to quit): 23\n",
      "The integer 23 is odd.\n",
      "Enter any integer you like (or 'q' to quit): q\n",
      "You have successfully exited the program. Thanks for playing!\n"
     ]
    }
   ],
   "source": [
    "# Flag: A variable that allows a program to run only if multiple conditions are satisfied\n",
    "\n",
    "# Use flag in odd/even integer game\n",
    "\n",
    "active = True\n",
    "\n",
    "while active:\n",
    "    number = input(\"Enter any integer you like (or 'q' to quit): \")\n",
    "    \n",
    "    if number == \"q\":\n",
    "        print(\"You have successfully exited the program. Thanks for playing!\")\n",
    "        active = False\n",
    "    elif int(number) % 2 == 0:\n",
    "        print(f\"The integer {number} is even.\")\n",
    "    else:\n",
    "        print(f\"The integer {number} is odd.\")"
   ]
  },
  {
   "cell_type": "markdown",
   "id": "9b616c3b",
   "metadata": {},
   "source": [
    "## 2.3 Using break to exit loop"
   ]
  },
  {
   "cell_type": "code",
   "execution_count": 11,
   "id": "2c64a6d6",
   "metadata": {},
   "outputs": [
    {
     "name": "stdout",
     "output_type": "stream",
     "text": [
      "Enter any integer you like (or 'q' to quit): 45\n",
      "The integer 45 is odd.\n",
      "Enter any integer you like (or 'q' to quit): q\n",
      "You have successfully exited the program. Thanks for playing!\n"
     ]
    }
   ],
   "source": [
    "# Use break to exit the odd/even integer game\n",
    "\n",
    "while True:\n",
    "    number = input(\"Enter any integer you like (or 'q' to quit): \")\n",
    "    \n",
    "    if number == \"q\":\n",
    "        print(\"You have successfully exited the program. Thanks for playing!\")\n",
    "        break\n",
    "    elif int(number) % 2 == 0:\n",
    "        print(f\"The integer {number} is even.\")\n",
    "    else:\n",
    "        print(f\"The integer {number} is odd.\")"
   ]
  },
  {
   "cell_type": "markdown",
   "id": "790aeedd",
   "metadata": {},
   "source": [
    "## 2.4 Using continue in a loop"
   ]
  },
  {
   "cell_type": "code",
   "execution_count": 81,
   "id": "b6d52e54",
   "metadata": {},
   "outputs": [
    {
     "name": "stdout",
     "output_type": "stream",
     "text": [
      "Enter the maximum number below which odd numbers are to be printed: 20\n",
      "\n",
      "Enter an odd number to avoid printing it; or press 'q' to quit: 3\n",
      "\n",
      "Enter an odd number to avoid printing it; or press 'q' to quit: 13\n",
      "\n",
      "Enter an odd number to avoid printing it; or press 'q' to quit: 19\n",
      "\n",
      "Enter an odd number to avoid printing it; or press 'q' to quit: q\n",
      "You have successfully made a list of odd numbers. They won't be printed.\n",
      "1\n",
      "5\n",
      "7\n",
      "9\n",
      "11\n",
      "15\n",
      "17\n"
     ]
    }
   ],
   "source": [
    "# Print all positive odd numbers below a certain number input by the user.\n",
    "# Also avoid printing those odd numbers from a list provided by the user.\n",
    "\n",
    "max_number = int(input(\"Enter the maximum number below which odd numbers are to be printed: \"))\n",
    "\n",
    "numbers_to_avoid = []\n",
    "while True:\n",
    "    new_number = input(\"\\nEnter an odd number to avoid printing it; or press 'q' to quit: \")\n",
    "    if new_number == \"q\":\n",
    "        print(\"You have successfully made a list of odd numbers. They won't be printed.\")\n",
    "        break\n",
    "    numbers_to_avoid.append(int(new_number))\n",
    "\n",
    "current_number = 0    \n",
    "while current_number < max_number:\n",
    "    current_number += 1\n",
    "    if current_number % 2 == 0 or current_number in numbers_to_avoid:\n",
    "        continue\n",
    "    print(current_number)"
   ]
  },
  {
   "cell_type": "markdown",
   "id": "a60c0ead",
   "metadata": {},
   "source": [
    "## 2.5 Avoid infinite loops"
   ]
  },
  {
   "cell_type": "code",
   "execution_count": 86,
   "id": "251d0918",
   "metadata": {},
   "outputs": [
    {
     "name": "stdout",
     "output_type": "stream",
     "text": [
      "0\n",
      "1\n",
      "2\n",
      "3\n",
      "4\n",
      "5\n",
      "6\n",
      "7\n",
      "8\n",
      "9\n"
     ]
    }
   ],
   "source": [
    "# To see infinite loop comment the line \"number += 1\" in the code below\n",
    "\n",
    "number = 0\n",
    "while number < 10:\n",
    "    print(number)\n",
    "    number += 1 # comment this line to see infinite loop"
   ]
  },
  {
   "cell_type": "markdown",
   "id": "65c916b8",
   "metadata": {},
   "source": [
    "# 3. Using while loop with lists and dictionaries "
   ]
  },
  {
   "cell_type": "markdown",
   "id": "58a588fe",
   "metadata": {},
   "source": [
    "## 3.1 Move items from one list to another"
   ]
  },
  {
   "cell_type": "code",
   "execution_count": 99,
   "id": "f9137033",
   "metadata": {},
   "outputs": [
    {
     "name": "stdout",
     "output_type": "stream",
     "text": [
      "1991 Terminator 2: Judgement Day\n",
      "1992 Reservoir Dogs\n",
      "1992 Alien 3\n",
      "1994 The Shawshank Redemption\n",
      "1994 True Lies\n",
      "1994 Pulp Fiction\n",
      "1995 Se7en\n",
      "1997 Titanic\n",
      "1997 The Game\n",
      "1998 Following\n",
      "1999 Fight Club\n"
     ]
    }
   ],
   "source": [
    "# Without modifying the dictionary, extract, sort and print 90s movies (ie. released from 1990 to 1999) \n",
    "\n",
    "movie_year_dic = {\"The Dark Knight\": 2008, \"The Prestige\": 2006, \"Interstellar\": 2014, \"Memento\": 2000,\n",
    "              \"Kill Bill: Vol. 1\": 2003, \"Pulp Fiction\": 1994, \"The Game\": 1997, \"Alien 3\": 1992,\n",
    "              \"Fight Club\": 1999, \"Zodiac\": 2007, \"Aliens\": 1986, \"Terminator 2: Judgement Day\": 1991,\n",
    "              \"Titanic\": 1997, \"True Lies\": 1994, \"The God Father\": 1972, \"The Shawshank Redemption\": 1994,\n",
    "              \"Old Boy\": 2003, \"Up\": 2009, \"The Lord of the Rings: The Fellowship of the Ring\": 2001, \"Se7en\": 1995,\n",
    "              \"Following\": 1998, \"Reservoir Dogs\": 1992}\n",
    "\n",
    "# pre-processing : \n",
    "movie_year_list = list(movie_year_dic.items()) # convert dictionary to list for easy manipulation\n",
    "movie_90s = [] # an empty list to add 90s movie\n",
    "\n",
    "# processing\n",
    "while movie_year_list: # check if TRUE (ie. if list is empty)\n",
    "    current_movie = movie_year_list.pop()\n",
    "    if current_movie[1] >= 1990 and current_movie[1] <= 1999: # check if movie is from 90s\n",
    "        movie_90s.append(current_movie) # append each 90s movie to the new list\n",
    "\n",
    "# post-processing: \n",
    "movie_90s_sorted = sorted(movie_90s, key = lambda x: x[1]) # sorting new list\n",
    "for movie, year in movie_90s_sorted: \n",
    "    print(year, movie) "
   ]
  },
  {
   "cell_type": "markdown",
   "id": "30a655c5",
   "metadata": {},
   "source": [
    "## 3.2 Remove all instances of specific values from a list"
   ]
  },
  {
   "cell_type": "code",
   "execution_count": 106,
   "id": "2391cbf9",
   "metadata": {},
   "outputs": [
    {
     "name": "stdout",
     "output_type": "stream",
     "text": [
      "['The Dark Knight', 'The Prestige', 'Interstellar', 'Kill Bill: Vol. 1', 'Pulp Fiction', 'Fight Club', 'Old Boy', 'Se7en']\n"
     ]
    }
   ],
   "source": [
    "# Remove all occurance of an item from a list using remove()\n",
    "\n",
    "favorite_movie_list = [\"Alien 3\", \"The Dark Knight\", \"The Prestige\", \"Alien 3\", \"Interstellar\",\n",
    "              \"Kill Bill: Vol. 1\", \"Pulp Fiction\", \"Alien 3\", \"Fight Club\", \"Old Boy\", \"Se7en\"]\n",
    "\n",
    "while \"Alien 3\" in favorite_movie_list:\n",
    "    favorite_movie_list.remove(\"Alien 3\")\n",
    "\n",
    "print(favorite_movie_list)"
   ]
  },
  {
   "cell_type": "code",
   "execution_count": 108,
   "id": "935c14fc",
   "metadata": {},
   "outputs": [
    {
     "name": "stdout",
     "output_type": "stream",
     "text": [
      "[('The Dark Knight', 2008), ('The Prestige', 2006), ('Interstellar', 2014), ('Memento', 2000), ('Kill Bill: Vol. 1', 2003), ('The Game', 1997), ('Alien 3', 1992), ('Fight Club', 1999), ('Zodiac', 2007), ('Aliens', 1986), ('Terminator 2: Judgement Day', 1991), ('Titanic', 1997), ('The God Father', 1972), ('Old Boy', 2003), ('Up', 2009), ('The Lord of the Rings: The Fellowship of the Ring', 2001), ('Se7en', 1995), ('Following', 1998), ('Reservoir Dogs', 1992)]\n"
     ]
    }
   ],
   "source": [
    "movie_year_dic = {\"The Dark Knight\": 2008, \"The Prestige\": 2006, \"Interstellar\": 2014, \"Memento\": 2000,\n",
    "              \"Kill Bill: Vol. 1\": 2003, \"Pulp Fiction\": 1994, \"The Game\": 1997, \"Alien 3\": 1992,\n",
    "              \"Fight Club\": 1999, \"Zodiac\": 2007, \"Aliens\": 1986, \"Terminator 2: Judgement Day\": 1991,\n",
    "              \"Titanic\": 1997, \"True Lies\": 1994, \"The God Father\": 1972, \"The Shawshank Redemption\": 1994,\n",
    "              \"Old Boy\": 2003, \"Up\": 2009, \"The Lord of the Rings: The Fellowship of the Ring\": 2001, \"Se7en\": 1995,\n",
    "              \"Following\": 1998, \"Reservoir Dogs\": 1992}\n",
    "\n",
    "movie_year_list = list(movie_year_dic.items()) # convert dictionary to list for easy manipulation\n",
    "\n",
    "print(list(filter(lambda x: x[1] != 1994, movie_year_list)))"
   ]
  },
  {
   "cell_type": "markdown",
   "id": "4eeca88f",
   "metadata": {},
   "source": [
    "## 3.3 Fill a dictionary with user input"
   ]
  },
  {
   "cell_type": "code",
   "execution_count": 113,
   "id": "c8f94d93",
   "metadata": {},
   "outputs": [
    {
     "name": "stdout",
     "output_type": "stream",
     "text": [
      "\n",
      "Please enter your name: john\n",
      "\n",
      "Please enter your favorite movie: rambo\n",
      "\n",
      "Would you like to let another person take this poll? (enter 'no' to exit; any other key to continue) belboa\n",
      "\n",
      "Please enter your name: belboa\n",
      "\n",
      "Please enter your favorite movie: rocky\n",
      "\n",
      "Would you like to let another person take this poll? (enter 'no' to exit; any other key to continue) no\n",
      "\n",
      "---- Poll Results ----\n",
      "\n",
      "Favorite movie of John is Rambo\n",
      "\n",
      "Favorite movie of Belboa is Rocky\n"
     ]
    }
   ],
   "source": [
    "# Create a dictionary using user name (key) and favorite movie (value)\n",
    "\n",
    "user_name_movie = {}\n",
    "\n",
    "polling_active = True\n",
    "\n",
    "while polling_active:\n",
    "    name = input(\"\\nPlease enter your name: \")\n",
    "    movie = input(\"\\nPlease enter your favorite movie: \")\n",
    "    \n",
    "    user_name_movie[name] = movie\n",
    "    \n",
    "    repeat = input(\"\\nWould you like to let another person take this poll? (enter 'no' to exit; any other key to continue) \")\n",
    "    if repeat == \"no\":\n",
    "        polling_active = False\n",
    "        \n",
    "print(\"\\n---- Poll Results ----\")\n",
    "for name, movie in user_name_movie.items():\n",
    "    print(f\"\\nFavorite movie of {name.title()} is {movie.title()}\")\n",
    "\n",
    "\n",
    "\n",
    "    "
   ]
  }
 ],
 "metadata": {
  "kernelspec": {
   "display_name": "Python 3 (ipykernel)",
   "language": "python",
   "name": "python3"
  },
  "language_info": {
   "codemirror_mode": {
    "name": "ipython",
    "version": 3
   },
   "file_extension": ".py",
   "mimetype": "text/x-python",
   "name": "python",
   "nbconvert_exporter": "python",
   "pygments_lexer": "ipython3",
   "version": "3.9.13"
  }
 },
 "nbformat": 4,
 "nbformat_minor": 5
}

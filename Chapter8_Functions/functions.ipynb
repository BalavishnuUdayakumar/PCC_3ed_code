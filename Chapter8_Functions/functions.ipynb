{
 "cells": [
  {
   "cell_type": "code",
   "execution_count": 1,
   "id": "233ec657",
   "metadata": {},
   "outputs": [],
   "source": [
    "# To display output of all lines inside a cell\n",
    "\n",
    "from IPython.core.interactiveshell import InteractiveShell\n",
    "InteractiveShell.ast_node_interactivity = \"all\""
   ]
  },
  {
   "cell_type": "markdown",
   "id": "3a5809b4",
   "metadata": {},
   "source": [
    "# 1. Defining a function"
   ]
  },
  {
   "cell_type": "markdown",
   "id": "a4a92baf",
   "metadata": {},
   "source": [
    "## 1.1 A simple example"
   ]
  },
  {
   "cell_type": "code",
   "execution_count": 2,
   "id": "92d89348",
   "metadata": {},
   "outputs": [
    {
     "name": "stdout",
     "output_type": "stream",
     "text": [
      "Hi, please enter your favorite movie name: about time\n",
      "'About Time' is a nice movie!\n"
     ]
    }
   ],
   "source": [
    "# Define a function to ask user to input favorite movie and print a response\n",
    "\n",
    "def favorite_movie_response(): # function definition\n",
    "    \n",
    "    \"\"\"\n",
    "       A function that takes favorite movie name of the user \n",
    "       and print a message as output\n",
    "    \"\"\" # docstring\n",
    "    \n",
    "    movie_name = input(\"Hi, please enter your favorite movie name: \")\n",
    "    print(f\"'{movie_name.title()}' is a nice movie!\")\n",
    "\n",
    "favorite_movie_response() # function call"
   ]
  },
  {
   "cell_type": "markdown",
   "id": "8848decf",
   "metadata": {},
   "source": [
    "## 1.2 Passing information to a function: argument & parameter "
   ]
  },
  {
   "cell_type": "code",
   "execution_count": 3,
   "id": "c1e3b4d9",
   "metadata": {},
   "outputs": [
    {
     "name": "stdout",
     "output_type": "stream",
     "text": [
      "Hi, please enter your favorite movie name: first blood\n",
      "Hello John, 'First Blood' is a nice movie!\n"
     ]
    }
   ],
   "source": [
    "# During the function call, the argument value provided with the function call\n",
    "# is passed to the function definition and is assigned to the parameter inside \n",
    "# the function definition.\n",
    "\n",
    "def favorite_movie_response(username): # username is the parameter in the function definition\n",
    "    \"\"\"Input user's favorite movie name and print a customized message\"\"\"# docstring\n",
    "    movie_name = input(\"Hi, please enter your favorite movie name: \")\n",
    "    print(f\"Hello {username.title()}, '{movie_name.title()}' is a nice movie!\")\n",
    "\n",
    "favorite_movie_response(\"John\") # \"John\" is the argument in the function call\n"
   ]
  },
  {
   "cell_type": "markdown",
   "id": "20d89c71",
   "metadata": {},
   "source": [
    "# 2. Different ways of passing agruments"
   ]
  },
  {
   "cell_type": "markdown",
   "id": "940dcbee",
   "metadata": {},
   "source": [
    "## 2.1 Positional arguments"
   ]
  },
  {
   "cell_type": "code",
   "execution_count": 4,
   "id": "777a7e94",
   "metadata": {},
   "outputs": [
    {
     "name": "stdout",
     "output_type": "stream",
     "text": [
      "\n",
      "'The Secret Life Of Walter Mitty' is my favorite movie.\n",
      "It was directed by 'Ben Stiller'; and was released in the year 2013.\n"
     ]
    }
   ],
   "source": [
    "# Function definition can have multiple parameters; which should be matched with respective\n",
    "# arguments from the function call. In Positional arguments this matching is based on the \n",
    "# order or arguments.\n",
    "\n",
    "def favorite_movie_details(name, director, year):\n",
    "    \"\"\"Display details of favorite movie.\"\"\"\n",
    "    print(f\"\\n'{name.title()}' is my favorite movie.\")\n",
    "    print(f\"It was directed by '{director.title()}'; and was released in the year {year}.\")\n",
    "\n",
    "favorite_movie_details(\"the secret life of walter mitty\", \"ben stiller\", 2013)"
   ]
  },
  {
   "cell_type": "code",
   "execution_count": 5,
   "id": "9ce52fb2",
   "metadata": {},
   "outputs": [
    {
     "name": "stdout",
     "output_type": "stream",
     "text": [
      "\n",
      "'The Secret Life Of Walter Mitty' is my favorite movie.\n",
      "It was directed by 'Ben Stiller'; and was released in the year 2013.\n",
      "\n",
      "'About Time' is my favorite movie.\n",
      "It was directed by 'Richard Curtis'; and was released in the year 2013.\n",
      "\n",
      "'First Blood' is my favorite movie.\n",
      "It was directed by 'Ted Kotcheff'; and was released in the year 1982.\n"
     ]
    }
   ],
   "source": [
    "# Call the same function multiple times\n",
    "\n",
    "def favorite_movie_details(name, director, year):\n",
    "    \"\"\"Display details of favorite movie.\n",
    "       Same function is called multiple time\n",
    "    \"\"\"\n",
    "    print(f\"\\n'{name.title()}' is my favorite movie.\")\n",
    "    print(f\"It was directed by '{director.title()}'; and was released in the year {year}.\")\n",
    "\n",
    "favorite_movie_details(\"the secret life of walter mitty\", \"ben stiller\", 2013)\n",
    "favorite_movie_details(\"about time\", \"richard curtis\", 2013)\n",
    "favorite_movie_details(\"first blood\", \"ted kotcheff\", 1982)"
   ]
  },
  {
   "cell_type": "code",
   "execution_count": 6,
   "id": "e40fb8f3",
   "metadata": {},
   "outputs": [
    {
     "name": "stdout",
     "output_type": "stream",
     "text": [
      "\n",
      "'Ben Stiller' is my favorite movie.\n",
      "It was directed by 'The Secret Life Of Walter Mitty'; and was released in the year 2013.\n"
     ]
    }
   ],
   "source": [
    "# Order matters in positional arguments: to see this, deliberately change the order \n",
    "# of arguments in the function call \n",
    "\n",
    "def favorite_movie_details(name, director, year):\n",
    "    \"\"\"Display details of favorite movie using positional argument method.\n",
    "       Note that order matters while using positional arguments.\n",
    "    \"\"\"\n",
    "    print(f\"\\n'{name.title()}' is my favorite movie.\")\n",
    "    print(f\"It was directed by '{director.title()}'; and was released in the year {year}.\")\n",
    "\n",
    "favorite_movie_details(\"ben stiller\", \"the secret life of walter mitty\", 2013)"
   ]
  },
  {
   "cell_type": "markdown",
   "id": "f325a1e6",
   "metadata": {},
   "source": [
    "## 2.2 Keyword arguments"
   ]
  },
  {
   "cell_type": "code",
   "execution_count": 7,
   "id": "b445722b",
   "metadata": {},
   "outputs": [
    {
     "name": "stdout",
     "output_type": "stream",
     "text": [
      "\n",
      "'About Time' is my favorite movie.\n",
      "It was directed by 'Richard Curtis'; and was released in the year 2013.\n"
     ]
    }
   ],
   "source": [
    "# In keyword arguments name-value pairs are provided in the function call.\n",
    "# Order of passing arguments in the function call does not matter in this case.\n",
    "\n",
    "def favorite_movie_details(name, director, year):\n",
    "    \"\"\"Display details of favorite movie using keyword argument method.\"\"\"\n",
    "    print(f\"\\n'{name.title()}' is my favorite movie.\")\n",
    "    print(f\"It was directed by '{director.title()}'; and was released in the year {year}.\")\n",
    "\n",
    "favorite_movie_details(year = 2013, name = \"about time\", director = \"richard curtis\")"
   ]
  },
  {
   "cell_type": "markdown",
   "id": "3e7eca5d",
   "metadata": {},
   "source": [
    "## 2.3 Default values"
   ]
  },
  {
   "cell_type": "code",
   "execution_count": 8,
   "id": "bc9cac60",
   "metadata": {
    "scrolled": true
   },
   "outputs": [
    {
     "name": "stdout",
     "output_type": "stream",
     "text": [
      "\n",
      "'The Prestige' is my favorite 'Christopher Nolan' movie.\n",
      "It was released in the year '2006'.\n",
      "\n",
      "'First Blood' is my favorite 'Ted Kotcheff' movie.\n",
      "It was released in the year '1982'.\n"
     ]
    }
   ],
   "source": [
    "# Default values can be provided for parameters in function definition.\n",
    "# These will be used when respective arguments are not passed during the fnction call.\n",
    "\n",
    "def favorite_nolan_movie(name, year, director = \"Christopher Nolan\"):\n",
    "    \"\"\"Display details of favorite Nolan movie by setting default value \n",
    "       for the parameter director.\n",
    "       Or display details of any other favorite director movie \n",
    "       by overriding the default parameter.\n",
    "    \"\"\"\n",
    "    print(f\"\\n'{name.title()}' is my favorite '{director.title()}' movie.\")\n",
    "    print(f\"It was released in the year '{year}'.\")\n",
    "\n",
    "favorite_nolan_movie(name = \"the prestige\", year = 2006) \n",
    "\n",
    "# override default values of parameters by passing arguments during funtion call\n",
    "favorite_nolan_movie(name = \"first blood\", director = \"ted kotcheff\", year = 1982)"
   ]
  },
  {
   "cell_type": "markdown",
   "id": "d075a698",
   "metadata": {},
   "source": [
    "## 2.4 Equivalent function call"
   ]
  },
  {
   "cell_type": "code",
   "execution_count": 9,
   "id": "eae40bb0",
   "metadata": {},
   "outputs": [
    {
     "name": "stdout",
     "output_type": "stream",
     "text": [
      "\n",
      "'The Prestige' is my favorite 'Christopher Nolan' movie.\n",
      "It was released in the year '2006'.\n",
      "\n",
      "'The Dark Knight' is my favorite 'Christopher Nolan' movie.\n",
      "It was released in the year '2008'.\n",
      "\n",
      "'First Blood' is my favorite 'Ted Kotcheff' movie.\n",
      "It was released in the year '1982'.\n",
      "\n",
      "'First Blood' is my favorite 'Ted Kotcheff' movie.\n",
      "It was released in the year '1982'.\n",
      "\n",
      "'First Blood' is my favorite 'Ted Kotcheff' movie.\n",
      "It was released in the year '1982'.\n"
     ]
    }
   ],
   "source": [
    "# Positional and Keyword arguments can be used together with default values \n",
    "# in several equivalent ways to call a function.\n",
    "\n",
    "def favorite_nolan_movie(name, year, director = \"Christopher Nolan\"):\n",
    "    \"\"\"Display details of favorite Nolan movie.\n",
    "       Or display details of any other favorite director movie \n",
    "       by overriding the default parameter.\n",
    "       Use different approaches to function call via combination of \n",
    "       positional & keyword arguments and default values.\n",
    "    \"\"\"\n",
    "    print(f\"\\n'{name.title()}' is my favorite '{director.title()}' movie.\")\n",
    "    print(f\"It was released in the year '{year}'.\")\n",
    "\n",
    "# positional arguments with default values\n",
    "favorite_nolan_movie(\"the prestige\", 2006) \n",
    "\n",
    "# keyword arguments with default values\n",
    "favorite_nolan_movie(year = 2008, name = \"the dark knight\") \n",
    "\n",
    "# override default value and use positional arguments\n",
    "favorite_nolan_movie(\"first blood\", 1982, \"ted kotcheff\") \n",
    "\n",
    "# override default value and use keyword arguments\n",
    "favorite_nolan_movie(director = \"ted kotcheff\", name = \"first blood\", year = 1982) \n",
    "\n",
    "# override default value and use both positional and keyword arguments\n",
    "favorite_nolan_movie(\"first blood\", 1982, director = \"ted kotcheff\") "
   ]
  },
  {
   "cell_type": "markdown",
   "id": "ac376b6d",
   "metadata": {},
   "source": [
    "## 2.5 Avoid argument error"
   ]
  },
  {
   "cell_type": "code",
   "execution_count": 10,
   "id": "c0261bc6",
   "metadata": {},
   "outputs": [
    {
     "data": {
      "text/plain": [
       "'\\nfavorite_movie_details()\\n'"
      ]
     },
     "execution_count": 10,
     "metadata": {},
     "output_type": "execute_result"
    }
   ],
   "source": [
    "# Error: missing arguments\n",
    "\n",
    "def favorite_movie_details(name, director, year):\n",
    "    \"\"\"Display details of favorite movie.\"\"\"\n",
    "    print(f\"\\n'{name.title()}' is my favorite movie.\")\n",
    "    print(f\"It was directed by '{director.title()}'; and was released in the year {year}.\")\n",
    "\n",
    "\n",
    "# Remove the following triple quotes and run to see the error due to \n",
    "# the absense of arguments in the function call\n",
    "'''\n",
    "favorite_movie_details()\n",
    "'''"
   ]
  },
  {
   "cell_type": "code",
   "execution_count": 11,
   "id": "33983ae0",
   "metadata": {},
   "outputs": [
    {
     "data": {
      "text/plain": [
       "'\\n# favorite_movie_details(name = \"about time\", \"richard curtis\", 2013) # error\\n# favorite_movie_details(\"about time\", director = \"richard curtis\", 2013) # error\\n# favorite_movie_details(\"about time\", director = \"richard curtis\", year = 2013) # no error\\n# favorite_movie_details(\"about time\", \"richard curtis\", year = 2013) # no error\\n'"
      ]
     },
     "execution_count": 11,
     "metadata": {},
     "output_type": "execute_result"
    }
   ],
   "source": [
    "# Error: positional argument follows keyword argument \n",
    "\n",
    "def favorite_movie_details(name, director, year):\n",
    "    \"\"\"Display details of favorite movie using both positional and keyword argument method.\"\"\"\n",
    "    print(f\"\\n'{name.title()}' is my favorite movie.\")\n",
    "    print(f\"It was directed by '{director.title()}'; and was released in the year {year}.\")\n",
    "\n",
    "# Remove the following triple quotes, uncomment one of the following lines, and run each case \n",
    "# one at a time to see the respective error/no-error\n",
    "'''\n",
    "# favorite_movie_details(name = \"about time\", \"richard curtis\", 2013) # error\n",
    "# favorite_movie_details(\"about time\", director = \"richard curtis\", 2013) # error\n",
    "# favorite_movie_details(\"about time\", director = \"richard curtis\", year = 2013) # no error\n",
    "# favorite_movie_details(\"about time\", \"richard curtis\", year = 2013) # no error\n",
    "''' "
   ]
  },
  {
   "cell_type": "markdown",
   "id": "daeb144f",
   "metadata": {},
   "source": [
    "# 3. Return values"
   ]
  },
  {
   "cell_type": "markdown",
   "id": "9c13fdf4",
   "metadata": {},
   "source": [
    "## 3.1 Return a simple value"
   ]
  },
  {
   "cell_type": "code",
   "execution_count": 12,
   "id": "2a38a757",
   "metadata": {},
   "outputs": [
    {
     "name": "stdout",
     "output_type": "stream",
     "text": [
      "Christopher Nolan\n"
     ]
    }
   ],
   "source": [
    "# Define a function to return a value after some processing\n",
    "\n",
    "def get_director_full_name(first_name, last_name):\n",
    "    \"\"\"Return full name of favorite director.\"\"\"\n",
    "    full_name = f\"{first_name} {last_name}\"\n",
    "    return full_name.title()\n",
    "\n",
    "favorite_director = get_director_full_name(\"christopher\", \"nolan\")\n",
    "print(favorite_director)"
   ]
  },
  {
   "cell_type": "markdown",
   "id": "4e08ec1e",
   "metadata": {},
   "source": [
    "## 3.2 Make an argument optional"
   ]
  },
  {
   "cell_type": "code",
   "execution_count": 13,
   "id": "b87bb9ca",
   "metadata": {},
   "outputs": [
    {
     "name": "stdout",
     "output_type": "stream",
     "text": [
      "Christopher Nolan\n",
      "Christopher Jonathan James Nolan\n"
     ]
    }
   ],
   "source": [
    "# Define a function to return a value. Keep atleast one argument optional\n",
    "\n",
    "def get_director_full_name(first_name, last_name, middle_name = \"\"):\n",
    "    \"\"\"Return full name of favorite director. Keep provision for entering middle name.\"\"\"\n",
    "    if middle_name:\n",
    "        full_name = f\"{first_name} {middle_name} {last_name}\"\n",
    "    else:\n",
    "        full_name = f\"{first_name} {last_name}\"\n",
    "    return full_name.title()\n",
    "\n",
    "# without middle name\n",
    "favorite_director = get_director_full_name(\"christopher\", \"nolan\")\n",
    "print(favorite_director)\n",
    "\n",
    "# with middle name\n",
    "favorite_director = get_director_full_name(\"christopher\", \"nolan\", \"jonathan james\")\n",
    "print(favorite_director)"
   ]
  },
  {
   "cell_type": "markdown",
   "id": "10874e5a",
   "metadata": {},
   "source": [
    "## 3.3 Return a dictionary"
   ]
  },
  {
   "cell_type": "code",
   "execution_count": 14,
   "id": "b36e1473",
   "metadata": {},
   "outputs": [
    {
     "name": "stdout",
     "output_type": "stream",
     "text": [
      "{'user': 'Jack', 'movie': 'Titanic'}\n",
      "{'user': 'Marge', 'movie': 'Fargo'}\n"
     ]
    }
   ],
   "source": [
    "# Define a function that accepts movie details and return as a dictionary\n",
    "\n",
    "def user_favorite_movie_dictionary(user_name, favorite_movie):\n",
    "    \"\"\"Return a dictionary with user name as key and favorite movie as value\"\"\"\n",
    "    details = {\"user\" : user_name.title(), \"movie\": favorite_movie.title()}\n",
    "    return details\n",
    "\n",
    "print(user_favorite_movie_dictionary(\"jack\", \"titanic\"))\n",
    "print(user_favorite_movie_dictionary(\"marge\", \"fargo\"))"
   ]
  },
  {
   "cell_type": "code",
   "execution_count": 15,
   "id": "dbf0ad25",
   "metadata": {},
   "outputs": [
    {
     "name": "stdout",
     "output_type": "stream",
     "text": [
      "{'user': 'Jack', 'movie': 'Titanic', 'year': 1997}\n",
      "{'user': 'Marge', 'movie': 'Fargo'}\n"
     ]
    }
   ],
   "source": [
    "# Redefine the above function to add an optional parameter release_year\n",
    "\n",
    "def user_favorite_movie_dictionary(user_name, favorite_movie, release_year = None):\n",
    "    \"\"\"Function returning a dictionary with user name and favorite movie as necessary parameters\n",
    "       and release year as optional paramater\n",
    "    \"\"\"\n",
    "    details = {\"user\" : user_name.title(), \"movie\": favorite_movie.title()}\n",
    "    if release_year:\n",
    "        details[\"year\"] = release_year\n",
    "    return details\n",
    "\n",
    "print(user_favorite_movie_dictionary(\"jack\", \"titanic\", 1997))\n",
    "print(user_favorite_movie_dictionary(\"marge\", \"fargo\"))"
   ]
  },
  {
   "cell_type": "markdown",
   "id": "547e5bd1",
   "metadata": {},
   "source": [
    "## 3.4 While loop inside a function"
   ]
  },
  {
   "cell_type": "code",
   "execution_count": 16,
   "id": "46830f2f",
   "metadata": {},
   "outputs": [
    {
     "name": "stdout",
     "output_type": "stream",
     "text": [
      "\n",
      "Please enter your first name (press 'q' anytime to quit): andy\n",
      "Please enter your last name: dufresne\n",
      "Please enter your favorite movie name: the shawshank redemption\n",
      "Please enter movie release year; if you don't remember leave it blank and press 'Enter' key: 1994\n",
      "\n",
      "Please enter your first name (press 'q' anytime to quit): roger\n",
      "Please enter your last name: kint\n",
      "Please enter your favorite movie name: the usual suspects\n",
      "Please enter movie release year; if you don't remember leave it blank and press 'Enter' key: \n",
      "\n",
      "Please enter your first name (press 'q' anytime to quit): alfred\n",
      "Please enter your last name: borden\n",
      "Please enter your favorite movie name: the prestige\n",
      "Please enter movie release year; if you don't remember leave it blank and press 'Enter' key: 2006\n",
      "\n",
      "Please enter your first name (press 'q' anytime to quit): clarice\n",
      "Please enter your last name: starling\n",
      "Please enter your favorite movie name: the silence of the lambs\n",
      "Please enter movie release year; if you don't remember leave it blank and press 'Enter' key: 1991\n",
      "\n",
      "Please enter your first name (press 'q' anytime to quit): q\n",
      "\n",
      "The final list containing favorite movies of all users is displayed below:\n",
      "[{'user': 'Andy Dufresne', 'movie': 'The Shawshank Redemption', 'year': 1994}, {'user': 'Roger Kint', 'movie': 'The Usual Suspects'}, {'user': 'Alfred Borden', 'movie': 'The Prestige', 'year': 2006}, {'user': 'Clarice Starling', 'movie': 'The Silence Of The Lambs', 'year': 1991}]\n"
     ]
    }
   ],
   "source": [
    "# Use a while loop to allow users to input favorite movie details\n",
    "\n",
    "def user_favorite_movie_dictionary(first_name, last_name, favorite_movie, release_year = None):\n",
    "    \"\"\"Function returning a list of dictionaries. \n",
    "       Each dictionary should contains user name & favorite movie; but may or may not include movie release year.\n",
    "    \"\"\"\n",
    "    full_name = f\"{first_name} {last_name}\"\n",
    "    details = {\"user\" : full_name.title(), \"movie\": favorite_movie.title()}\n",
    "    if release_year:\n",
    "        details[\"year\"] = int(release_year)\n",
    "    return details\n",
    "\n",
    "user_movie_list = []\n",
    "\n",
    "while True:\n",
    "    \n",
    "    user_first_name = input(\"\\nPlease enter your first name (press 'q' anytime to quit): \")\n",
    "    if user_first_name == \"q\":\n",
    "        break\n",
    "    \n",
    "    user_last_name = input(\"Please enter your last name: \")\n",
    "    if user_last_name == \"q\":\n",
    "        break\n",
    "    \n",
    "    movie_name = input(\"Please enter your favorite movie name: \")\n",
    "    if movie_name == \"q\":\n",
    "        break\n",
    "        \n",
    "    movie_release_year = input(\"Please enter movie release year; if you don't remember leave it blank and press 'Enter' key: \")\n",
    "    if movie_release_year == \"q\":\n",
    "        break\n",
    "        \n",
    "    user_movie_dictionary = user_favorite_movie_dictionary(user_first_name, user_last_name, movie_name, movie_release_year)\n",
    "    \n",
    "    user_movie_list.append(user_movie_dictionary)\n",
    "    \n",
    "print(f\"\\nThe final list containing favorite movies of all users is displayed below:\\n{user_movie_list}\")"
   ]
  },
  {
   "cell_type": "markdown",
   "id": "61676162",
   "metadata": {},
   "source": [
    "# 4. Pass list using functions"
   ]
  },
  {
   "cell_type": "code",
   "execution_count": 17,
   "id": "33688e7b",
   "metadata": {},
   "outputs": [
    {
     "name": "stdout",
     "output_type": "stream",
     "text": [
      "\n",
      "The initial movie list from user input is: \n",
      "[{'user': 'Jack Sparrow', 'movie': 'Pirates Of The Carribean: The Curse Of The Black Pearl', 'year': 2003}, {'user': 'Roger Thornhill', 'movie': 'North By Northwest'}, {'user': 'Doug Carlin', 'movie': 'Deja Vu', 'year': 2006}]\n",
      "\n",
      "The updated user movie list including missing release year is: \n",
      "[{'user': 'Jack Sparrow', 'movie': 'Pirates Of The Carribean: The Curse Of The Black Pearl', 'year': 2003}, {'user': 'Roger Thornhill', 'movie': 'North By Northwest', 'year': 1959}, {'user': 'Doug Carlin', 'movie': 'Deja Vu', 'year': 2006}]\n"
     ]
    }
   ],
   "source": [
    "# Define a functions to update the list obtained from previous cell by filling the missing release year. \n",
    "# Assume that we have access to a database that contain movies & release years as list of tuples.\n",
    "# Condition: Keep the original user list unmodified for future reference.\n",
    "\n",
    "# Function definition\n",
    "def complete_user_movie_list(initial_list, final_list):\n",
    "    \"\"\"Function takes 1) a copy of the initial user list, and 2) an empty list as parameters.\n",
    "       A while loop is used to transfer items from initial list to final list one at a time.\n",
    "       During this transfer each item is checked for missing \"release year\", and if found\n",
    "       missing, that data is updated by matching the corresponding movie name from the \n",
    "       available database. The final list is reversed\n",
    "    \"\"\"\n",
    "    while initial_list:\n",
    "        current_user_detail = initial_list.pop()\n",
    "        if \"year\" not in current_user_detail.keys():\n",
    "            for movie_year in movie_year_database:\n",
    "                if movie_year[0] == current_user_detail[\"movie\"]:\n",
    "                    current_user_detail[\"year\"] = movie_year[1]\n",
    "        final_list.append(current_user_detail)                \n",
    "    \n",
    "    final_list.reverse()\n",
    "    return final_list\n",
    "\n",
    "\n",
    "# Though we can run the previous cell to obtain the list of dictionaries with user inputs,\n",
    "# for simplicity we assume the following list as the result of executing previous cell.\n",
    "user_movie_list_ver1 = [{'user': 'Jack Sparrow',\n",
    "  'movie': 'Pirates Of The Carribean: The Curse Of The Black Pearl',\n",
    "  'year': 2003},\n",
    " {'user': 'Roger Thornhill', 'movie': 'North By Northwest'},\n",
    " {'user': 'Doug Carlin', 'movie': 'Deja Vu', 'year': 2006}]\n",
    "\n",
    "# Assume that we have access to the following database for comparing with the user_movie_list_v1.\n",
    "movie_year_database = [('The Dark Knight', 2008), ('Deja Vu', 2006), ('Pulp Fiction', 1994), ('The Game', 1997),\n",
    "                       ('North By Northwest', 1959), ('The God Father', 1972), ('The Shawshank Redemption', 1994), \n",
    "                       ('Pirates Of The Carribean: The Curse Of The Black Pearl', 2003), ('Following', 1998),\n",
    "                       ('Terminator 2: Judgement Day', 1991), ('Old Boy', 2003), ('Zodiac', 2007)]\n",
    "\n",
    "# Initialize the new list \n",
    "final_list = []\n",
    "\n",
    "## copy by slicing does not stop modifying the original list\n",
    "#user_movie_list_ver1_copy = user_movie_list_ver1[:] \n",
    "\n",
    "# Create a deep copy of user_movie_list_ver1 to avoid modification\n",
    "import copy\n",
    "user_movie_list_ver1_copy = copy.deepcopy(user_movie_list_ver1)\n",
    "\n",
    "updated_user_movie_list = complete_user_movie_list(user_movie_list_ver1_copy, final_list)\n",
    "\n",
    "print(f\"\\nThe initial movie list from user input is: \\n{user_movie_list_ver1}\")\n",
    "print(f\"\\nThe updated user movie list including missing release year is: \\n{updated_user_movie_list}\")"
   ]
  },
  {
   "cell_type": "markdown",
   "id": "8f12a60d",
   "metadata": {},
   "source": [
    "# 5. Pass arbitrary number of arguments"
   ]
  },
  {
   "cell_type": "markdown",
   "id": "f2e27349",
   "metadata": {},
   "source": [
    "## 5.1 An example"
   ]
  },
  {
   "cell_type": "code",
   "execution_count": 18,
   "id": "d2b75726",
   "metadata": {},
   "outputs": [
    {
     "name": "stdout",
     "output_type": "stream",
     "text": [
      "\n",
      "Favorite movies of user are: \n",
      "- The Prestige\n",
      "\n",
      "Favorite movies of user are: \n",
      "- 12 Angry Men\n",
      "- Eternal Sunshine of the Spotless Mind\n",
      "\n",
      "Favorite movies of user are: \n",
      "- Jaws\n",
      "- American Beauty\n",
      "- The Departed\n",
      "- Taxi Driver\n",
      "- Meet the Parents\n"
     ]
    }
   ],
   "source": [
    "# Define a function that print any number of user's favorite movies\n",
    "\n",
    "def my_favourite_movies(*favourites):\n",
    "    \"\"\"Print any number of user's favorite movies.\"\"\"\n",
    "    print(\"\\nFavorite movies of user are: \")\n",
    "    for favourite in favourites:\n",
    "        print(f\"- {favourite}\")\n",
    "    \n",
    "my_favourite_movies(\"The Prestige\")\n",
    "my_favourite_movies(\"12 Angry Men\", \"Eternal Sunshine of the Spotless Mind\")\n",
    "my_favourite_movies(\"Jaws\", \"American Beauty\", \"The Departed\", \"Taxi Driver\", \"Meet the Parents\")"
   ]
  },
  {
   "cell_type": "markdown",
   "id": "fb1ce9a3",
   "metadata": {},
   "source": [
    "## 5.2 Mixing positional and arbitrary agruments"
   ]
  },
  {
   "cell_type": "code",
   "execution_count": 19,
   "id": "ed6577a1",
   "metadata": {},
   "outputs": [
    {
     "name": "stdout",
     "output_type": "stream",
     "text": [
      "\n",
      "Favorite movies of user in the year 2006 are: \n",
      "- The Prestige\n",
      "\n",
      "Favorite movies of user in the year 1994 are: \n",
      "- Forrest Gump\n",
      "- Leon: The Professional\n",
      "- Pulp Fiction\n",
      "- Speed\n",
      "- The Shawshank Redemption\n"
     ]
    }
   ],
   "source": [
    "# Define a function that print any number of user's favorite movies in a particular year\n",
    "\n",
    "def my_favourite_movies(year, *favourites):\n",
    "    \"\"\"Print any number of user's favorite movies.\"\"\"\n",
    "    print(f\"\\nFavorite movies of user in the year {year} are: \")\n",
    "    for favourite in favourites:\n",
    "        print(f\"- {favourite}\")\n",
    "    \n",
    "my_favourite_movies(2006, \"The Prestige\")\n",
    "my_favourite_movies(1994, \"Forrest Gump\", \"Leon: The Professional\", \"Pulp Fiction\", \"Speed\", \"The Shawshank Redemption\")"
   ]
  },
  {
   "cell_type": "markdown",
   "id": "dd97261d",
   "metadata": {},
   "source": [
    "## 5.3 Make use of arbitrary keyword arguments"
   ]
  },
  {
   "cell_type": "code",
   "execution_count": 20,
   "id": "587a9682",
   "metadata": {
    "scrolled": true
   },
   "outputs": [
    {
     "name": "stdout",
     "output_type": "stream",
     "text": [
      "{'movie': 'Kung Fu Panda', 'year': '2008', 'genre': 'Animation, Action, Adventure', 'user_first_name': 'Po', 'user_last_name': 'Ping'}\n"
     ]
    }
   ],
   "source": [
    "# Define a function that can take arbitrary number of user-defined keywords and their values as arguments.\n",
    "\n",
    "def create_user_profile(first_name, last_name, **user_movie_details):\n",
    "    \"\"\"Build a dictionary that contain information about a user and favorite movies.\"\"\"\n",
    "    user_movie_details[\"user_first_name\"] = first_name\n",
    "    user_movie_details[\"user_last_name\"] = last_name\n",
    "    return user_movie_details\n",
    "\n",
    "user_info_compiled = create_user_profile(\"Po\", \"Ping\", \n",
    "                                         movie = \"Kung Fu Panda\",\n",
    "                                         year = \"2008\",\n",
    "                                         genre = \"Animation, Action, Adventure\")\n",
    "print(user_info_compiled)"
   ]
  },
  {
   "cell_type": "markdown",
   "id": "fb7a7f51",
   "metadata": {},
   "source": [
    "# 6. Storing functions in modules and using them"
   ]
  },
  {
   "cell_type": "code",
   "execution_count": 25,
   "id": "8449391e",
   "metadata": {},
   "outputs": [
    {
     "data": {
      "text/plain": [
       "\"\\nA module 'favourite_movie.py' is created in the same directory as this notebook.\\nInside this module, functions 'my_favourite_movies' and 'my_favourite_movies_and_year' are defined.\\n\""
      ]
     },
     "execution_count": 25,
     "metadata": {},
     "output_type": "execute_result"
    },
    {
     "name": "stdout",
     "output_type": "stream",
     "text": [
      "\n",
      "Favorite movies of user are: \n",
      "- The Prestige\n",
      "\n",
      "Favorite movies of user in the year 2006 are: \n",
      "- The Prestige\n"
     ]
    }
   ],
   "source": [
    "\"\"\"\n",
    "A module 'favourite_movie.py' is created in the same directory as this notebook.\n",
    "Inside this module, functions 'my_favourite_movies' and 'my_favourite_movies_and_year' are defined.\n",
    "\"\"\"\n",
    "# Note: To avoid AttributeError while execution of cells (that import new/modified modules), restart the kernel.\n",
    "\n",
    "import favourite_movie_module as fmm\n",
    "\n",
    "fmm.my_favourite_movies(\"The Prestige\")\n",
    "fmm.my_favourite_movies_and_year(2006, \"The Prestige\")"
   ]
  },
  {
   "cell_type": "code",
   "execution_count": 26,
   "id": "323422d4",
   "metadata": {},
   "outputs": [
    {
     "name": "stdout",
     "output_type": "stream",
     "text": [
      "\n",
      "Favorite movies of user in the year 2006 are: \n",
      "- The Prestige\n",
      "\n",
      "Favorite movies of user in the year 1994 are: \n",
      "- Forrest Gump\n",
      "- Leon: The Professional\n",
      "- Pulp Fiction\n",
      "- Speed\n",
      "- The Shawshank Redemption\n"
     ]
    }
   ],
   "source": [
    "from favourite_movie_module import my_favourite_movies_and_year as mfmy\n",
    "\n",
    "mfmy(2006, \"The Prestige\")\n",
    "mfmy(1994, \"Forrest Gump\", \"Leon: The Professional\", \"Pulp Fiction\", \"Speed\", \"The Shawshank Redemption\")"
   ]
  }
 ],
 "metadata": {
  "kernelspec": {
   "display_name": "Python 3 (ipykernel)",
   "language": "python",
   "name": "python3"
  },
  "language_info": {
   "codemirror_mode": {
    "name": "ipython",
    "version": 3
   },
   "file_extension": ".py",
   "mimetype": "text/x-python",
   "name": "python",
   "nbconvert_exporter": "python",
   "pygments_lexer": "ipython3",
   "version": "3.9.13"
  }
 },
 "nbformat": 4,
 "nbformat_minor": 5
}
